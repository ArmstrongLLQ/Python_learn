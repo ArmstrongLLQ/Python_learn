{
 "cells": [
  {
   "cell_type": "markdown",
   "metadata": {},
   "source": [
    "# <font color='blue'>Mean Machine: Boosting a decision stump</font>"
   ]
  },
  {
   "cell_type": "markdown",
   "metadata": {},
   "source": [
    "The goal of this notebook is to implement your own boosting module.\n",
    "\n",
    "* Use pandas to do some feature engineering.\n",
    "* Modify the decision trees to incorporate weights.\n",
    "* Implement Adaboost ensembling.\n",
    "* Use your implementation of Adaboost to train a boosted decision stump ensemble.\n",
    "* Evaluate the effect of boosting (adding more decision stumps) on performance of the model.\n",
    "* Explore the robustness of Adaboost to overfitting."
   ]
  },
  {
   "cell_type": "markdown",
   "metadata": {},
   "source": [
    "# <font color='red'>Import all relevant packages</font>"
   ]
  },
  {
   "cell_type": "code",
   "execution_count": 1,
   "metadata": {},
   "outputs": [],
   "source": [
    "import numpy as np     # 用来做数学运算\n",
    "import pandas as pd    # 用来处理数据表\n",
    "\n",
    "# 将所有图都在 Notebook 里显示\n",
    "%matplotlib inline               \n",
    "import matplotlib.pyplot as plt  # 用来画图\n",
    "from sklearn.model_selection import train_test_split # 做交叉验证，划分训练集和测试集"
   ]
  },
  {
   "cell_type": "markdown",
   "metadata": {},
   "source": [
    "# <font color='red'>Load Lending Club dataset</font>"
   ]
  },
  {
   "cell_type": "markdown",
   "metadata": {},
   "source": [
    "We will be using the same [LendingClub](https://www.lendingclub.com/) dataset as in the previous assignment."
   ]
  },
  {
   "cell_type": "code",
   "execution_count": 2,
   "metadata": {},
   "outputs": [
    {
     "data": {
      "text/html": [
       "<div>\n",
       "<table border=\"1\" class=\"dataframe\">\n",
       "  <thead>\n",
       "    <tr style=\"text-align: right;\">\n",
       "      <th></th>\n",
       "      <th>id</th>\n",
       "      <th>member_id</th>\n",
       "      <th>loan_amnt</th>\n",
       "      <th>funded_amnt</th>\n",
       "      <th>funded_amnt_inv</th>\n",
       "      <th>term</th>\n",
       "      <th>int_rate</th>\n",
       "      <th>installment</th>\n",
       "      <th>grade</th>\n",
       "      <th>sub_grade</th>\n",
       "      <th>...</th>\n",
       "      <th>sub_grade_num</th>\n",
       "      <th>delinq_2yrs_zero</th>\n",
       "      <th>pub_rec_zero</th>\n",
       "      <th>collections_12_mths_zero</th>\n",
       "      <th>short_emp</th>\n",
       "      <th>payment_inc_ratio</th>\n",
       "      <th>final_d</th>\n",
       "      <th>last_delinq_none</th>\n",
       "      <th>last_record_none</th>\n",
       "      <th>last_major_derog_none</th>\n",
       "    </tr>\n",
       "  </thead>\n",
       "  <tbody>\n",
       "    <tr>\n",
       "      <th>0</th>\n",
       "      <td>1077501</td>\n",
       "      <td>1296599</td>\n",
       "      <td>5000</td>\n",
       "      <td>5000</td>\n",
       "      <td>4975</td>\n",
       "      <td>36 months</td>\n",
       "      <td>10.65</td>\n",
       "      <td>162.87</td>\n",
       "      <td>B</td>\n",
       "      <td>B2</td>\n",
       "      <td>...</td>\n",
       "      <td>0.4</td>\n",
       "      <td>1.0</td>\n",
       "      <td>1.0</td>\n",
       "      <td>1.0</td>\n",
       "      <td>0</td>\n",
       "      <td>8.143500</td>\n",
       "      <td>20141201T000000</td>\n",
       "      <td>1</td>\n",
       "      <td>1</td>\n",
       "      <td>1</td>\n",
       "    </tr>\n",
       "    <tr>\n",
       "      <th>1</th>\n",
       "      <td>1077430</td>\n",
       "      <td>1314167</td>\n",
       "      <td>2500</td>\n",
       "      <td>2500</td>\n",
       "      <td>2500</td>\n",
       "      <td>60 months</td>\n",
       "      <td>15.27</td>\n",
       "      <td>59.83</td>\n",
       "      <td>C</td>\n",
       "      <td>C4</td>\n",
       "      <td>...</td>\n",
       "      <td>0.8</td>\n",
       "      <td>1.0</td>\n",
       "      <td>1.0</td>\n",
       "      <td>1.0</td>\n",
       "      <td>1</td>\n",
       "      <td>2.393200</td>\n",
       "      <td>20161201T000000</td>\n",
       "      <td>1</td>\n",
       "      <td>1</td>\n",
       "      <td>1</td>\n",
       "    </tr>\n",
       "    <tr>\n",
       "      <th>2</th>\n",
       "      <td>1077175</td>\n",
       "      <td>1313524</td>\n",
       "      <td>2400</td>\n",
       "      <td>2400</td>\n",
       "      <td>2400</td>\n",
       "      <td>36 months</td>\n",
       "      <td>15.96</td>\n",
       "      <td>84.33</td>\n",
       "      <td>C</td>\n",
       "      <td>C5</td>\n",
       "      <td>...</td>\n",
       "      <td>1.0</td>\n",
       "      <td>1.0</td>\n",
       "      <td>1.0</td>\n",
       "      <td>1.0</td>\n",
       "      <td>0</td>\n",
       "      <td>8.259550</td>\n",
       "      <td>20141201T000000</td>\n",
       "      <td>1</td>\n",
       "      <td>1</td>\n",
       "      <td>1</td>\n",
       "    </tr>\n",
       "    <tr>\n",
       "      <th>122604</th>\n",
       "      <td>9695736</td>\n",
       "      <td>11547808</td>\n",
       "      <td>8525</td>\n",
       "      <td>8525</td>\n",
       "      <td>8525</td>\n",
       "      <td>60 months</td>\n",
       "      <td>18.25</td>\n",
       "      <td>217.65</td>\n",
       "      <td>D</td>\n",
       "      <td>D3</td>\n",
       "      <td>...</td>\n",
       "      <td>0.6</td>\n",
       "      <td>0.0</td>\n",
       "      <td>1.0</td>\n",
       "      <td>1.0</td>\n",
       "      <td>0</td>\n",
       "      <td>6.958120</td>\n",
       "      <td>20190101T000000</td>\n",
       "      <td>0</td>\n",
       "      <td>1</td>\n",
       "      <td>0</td>\n",
       "    </tr>\n",
       "    <tr>\n",
       "      <th>122605</th>\n",
       "      <td>9684700</td>\n",
       "      <td>11536848</td>\n",
       "      <td>22000</td>\n",
       "      <td>22000</td>\n",
       "      <td>22000</td>\n",
       "      <td>60 months</td>\n",
       "      <td>19.97</td>\n",
       "      <td>582.50</td>\n",
       "      <td>D</td>\n",
       "      <td>D5</td>\n",
       "      <td>...</td>\n",
       "      <td>1.0</td>\n",
       "      <td>1.0</td>\n",
       "      <td>0.0</td>\n",
       "      <td>1.0</td>\n",
       "      <td>0</td>\n",
       "      <td>8.961540</td>\n",
       "      <td>20190101T000000</td>\n",
       "      <td>1</td>\n",
       "      <td>0</td>\n",
       "      <td>1</td>\n",
       "    </tr>\n",
       "    <tr>\n",
       "      <th>122606</th>\n",
       "      <td>9604874</td>\n",
       "      <td>11457002</td>\n",
       "      <td>2000</td>\n",
       "      <td>2000</td>\n",
       "      <td>2000</td>\n",
       "      <td>36 months</td>\n",
       "      <td>7.90</td>\n",
       "      <td>62.59</td>\n",
       "      <td>A</td>\n",
       "      <td>A4</td>\n",
       "      <td>...</td>\n",
       "      <td>0.8</td>\n",
       "      <td>0.0</td>\n",
       "      <td>1.0</td>\n",
       "      <td>1.0</td>\n",
       "      <td>0</td>\n",
       "      <td>0.904916</td>\n",
       "      <td>20170101T000000</td>\n",
       "      <td>0</td>\n",
       "      <td>1</td>\n",
       "      <td>1</td>\n",
       "    </tr>\n",
       "  </tbody>\n",
       "</table>\n",
       "<p>6 rows × 68 columns</p>\n",
       "</div>"
      ],
      "text/plain": [
       "             id  member_id  loan_amnt  funded_amnt  funded_amnt_inv  \\\n",
       "0       1077501    1296599       5000         5000             4975   \n",
       "1       1077430    1314167       2500         2500             2500   \n",
       "2       1077175    1313524       2400         2400             2400   \n",
       "122604  9695736   11547808       8525         8525             8525   \n",
       "122605  9684700   11536848      22000        22000            22000   \n",
       "122606  9604874   11457002       2000         2000             2000   \n",
       "\n",
       "              term  int_rate  installment grade sub_grade  \\\n",
       "0        36 months     10.65       162.87     B        B2   \n",
       "1        60 months     15.27        59.83     C        C4   \n",
       "2        36 months     15.96        84.33     C        C5   \n",
       "122604   60 months     18.25       217.65     D        D3   \n",
       "122605   60 months     19.97       582.50     D        D5   \n",
       "122606   36 months      7.90        62.59     A        A4   \n",
       "\n",
       "                ...          sub_grade_num delinq_2yrs_zero pub_rec_zero  \\\n",
       "0               ...                    0.4              1.0          1.0   \n",
       "1               ...                    0.8              1.0          1.0   \n",
       "2               ...                    1.0              1.0          1.0   \n",
       "122604          ...                    0.6              0.0          1.0   \n",
       "122605          ...                    1.0              1.0          0.0   \n",
       "122606          ...                    0.8              0.0          1.0   \n",
       "\n",
       "        collections_12_mths_zero short_emp payment_inc_ratio          final_d  \\\n",
       "0                            1.0         0          8.143500  20141201T000000   \n",
       "1                            1.0         1          2.393200  20161201T000000   \n",
       "2                            1.0         0          8.259550  20141201T000000   \n",
       "122604                       1.0         0          6.958120  20190101T000000   \n",
       "122605                       1.0         0          8.961540  20190101T000000   \n",
       "122606                       1.0         0          0.904916  20170101T000000   \n",
       "\n",
       "       last_delinq_none last_record_none last_major_derog_none  \n",
       "0                     1                1                     1  \n",
       "1                     1                1                     1  \n",
       "2                     1                1                     1  \n",
       "122604                0                1                     0  \n",
       "122605                1                0                     1  \n",
       "122606                0                1                     1  \n",
       "\n",
       "[6 rows x 68 columns]"
      ]
     },
     "execution_count": 2,
     "metadata": {},
     "output_type": "execute_result"
    }
   ],
   "source": [
    "loans = pd.read_csv('lending-club-data.csv', low_memory=False)\n",
    "loans.head(3).append(loans.tail(3))"
   ]
  },
  {
   "cell_type": "markdown",
   "metadata": {},
   "source": [
    "### Extracting the target and the feature columns\n",
    "\n",
    "We will now repeat some of the feature processing steps that we saw in the previous assignment:\n",
    "\n",
    "First, we re-assign the target to have +1 as a safe (good) loan, and -1 as a risky (bad) loan.\n",
    "\n",
    "Next, we select four categorical features: \n",
    "1. grade of the loan \n",
    "2. the length of the loan term\n",
    "3. the home ownership status: own, mortgage, rent\n",
    "4. number of years of employment."
   ]
  },
  {
   "cell_type": "code",
   "execution_count": 3,
   "metadata": {},
   "outputs": [],
   "source": [
    "features = ['grade',              # grade of the loan\n",
    "            'term',               # the term of the loan\n",
    "            'home_ownership',     # home_ownership status: own, mortgage or rent\n",
    "            'emp_length',         # number of years of employment\n",
    "           ]\n",
    "loans['safe_loans'] = loans['bad_loans'].apply(lambda x : +1 if x==0 else -1)\n",
    "loans = loans.drop('bad_loans', 1)\n",
    "target = 'safe_loans'\n",
    "loans = loans[features + [target]]"
   ]
  },
  {
   "cell_type": "markdown",
   "metadata": {},
   "source": [
    "### Subsample dataset to make sure classes are balanced"
   ]
  },
  {
   "cell_type": "markdown",
   "metadata": {},
   "source": [
    "Just as we did in the previous assignment, we will undersample the larger class (safe loans) in order to balance out our dataset. This means we are throwing away many data points. We use `seed=1` so everyone gets the same results."
   ]
  },
  {
   "cell_type": "code",
   "execution_count": 4,
   "metadata": {},
   "outputs": [
    {
     "name": "stdout",
     "output_type": "stream",
     "text": [
      "% of safe loans  : 50.00%\n",
      "% of risky loans : 50.00%\n",
      "Total number of loans in our new dataset : 46300\n"
     ]
    }
   ],
   "source": [
    "safe_loans_raw = loans[loans[target] == +1]\n",
    "risky_loans_raw = loans[loans[target] == -1]\n",
    "\n",
    "# Since there are fewer risky loans than safe loans, find the ratio of \n",
    "# the sizes and use that percentage to undersample the safe loans.\n",
    "ratio = len(risky_loans_raw)/float(len(safe_loans_raw))\n",
    "\n",
    "risky_loans = risky_loans_raw\n",
    "safe_loans = safe_loans_raw.sample(frac=ratio, random_state=1)\n",
    "\n",
    "# Append the risky_loans with the downsampled version of safe_loans\n",
    "loans_data = risky_loans.append(safe_loans)\n",
    "\n",
    "N1 = len(safe_loans)\n",
    "N2 = len(risky_loans)\n",
    "N = N1 + N2\n",
    "print( \"%% of safe loans  : %.2f%%\" %(N1/N*100.0) )\n",
    "print( \"%% of risky loans : %.2f%%\" %(N2/N*100.0) )\n",
    "print( \"Total number of loans in our new dataset :\", N )"
   ]
  },
  {
   "cell_type": "markdown",
   "metadata": {},
   "source": [
    "**Note:** There are many approaches for dealing with imbalanced data, including some where we modify the learning algorithm. These approaches are beyond the scope of this course, but some of them are reviewed in this [paper](http://ieeexplore.ieee.org/xpl/login.jsp?tp=&arnumber=5128907&url=http%3A%2F%2Fieeexplore.ieee.org%2Fiel5%2F69%2F5173046%2F05128907.pdf%3Farnumber%3D5128907 ). For this assignment, we use the simplest possible approach, where we subsample the overly represented class to get a more balanced dataset. In general, and especially when the data is highly imbalanced, we recommend using more advanced methods."
   ]
  },
  {
   "cell_type": "markdown",
   "metadata": {},
   "source": [
    "### Transform categorical data into binary features"
   ]
  },
  {
   "cell_type": "markdown",
   "metadata": {},
   "source": [
    "In this assignment, we will work with **binary decision trees**. Since all of our features are currently categorical features, we want to turn them into binary features using 1-hot encoding. \n",
    "\n",
    "We can do so with the following code block (see the first assignments for more details):"
   ]
  },
  {
   "cell_type": "code",
   "execution_count": 5,
   "metadata": {},
   "outputs": [
    {
     "data": {
      "text/html": [
       "<div>\n",
       "<table border=\"1\" class=\"dataframe\">\n",
       "  <thead>\n",
       "    <tr style=\"text-align: right;\">\n",
       "      <th></th>\n",
       "      <th>safe_loans</th>\n",
       "      <th>grade.C</th>\n",
       "      <th>grade.F</th>\n",
       "      <th>grade.B</th>\n",
       "      <th>grade.D</th>\n",
       "      <th>grade.A</th>\n",
       "      <th>grade.E</th>\n",
       "      <th>grade.G</th>\n",
       "      <th>term. 60 months</th>\n",
       "      <th>term. 36 months</th>\n",
       "      <th>...</th>\n",
       "      <th>emp_length.3 years</th>\n",
       "      <th>emp_length.10+ years</th>\n",
       "      <th>emp_length.1 year</th>\n",
       "      <th>emp_length.9 years</th>\n",
       "      <th>emp_length.2 years</th>\n",
       "      <th>emp_length.8 years</th>\n",
       "      <th>emp_length.7 years</th>\n",
       "      <th>emp_length.5 years</th>\n",
       "      <th>emp_length.n/a</th>\n",
       "      <th>emp_length.6 years</th>\n",
       "    </tr>\n",
       "  </thead>\n",
       "  <tbody>\n",
       "    <tr>\n",
       "      <th>1</th>\n",
       "      <td>-1</td>\n",
       "      <td>1</td>\n",
       "      <td>0</td>\n",
       "      <td>0</td>\n",
       "      <td>0</td>\n",
       "      <td>0</td>\n",
       "      <td>0</td>\n",
       "      <td>0</td>\n",
       "      <td>1</td>\n",
       "      <td>0</td>\n",
       "      <td>...</td>\n",
       "      <td>0</td>\n",
       "      <td>0</td>\n",
       "      <td>0</td>\n",
       "      <td>0</td>\n",
       "      <td>0</td>\n",
       "      <td>0</td>\n",
       "      <td>0</td>\n",
       "      <td>0</td>\n",
       "      <td>0</td>\n",
       "      <td>0</td>\n",
       "    </tr>\n",
       "    <tr>\n",
       "      <th>6</th>\n",
       "      <td>-1</td>\n",
       "      <td>0</td>\n",
       "      <td>1</td>\n",
       "      <td>0</td>\n",
       "      <td>0</td>\n",
       "      <td>0</td>\n",
       "      <td>0</td>\n",
       "      <td>0</td>\n",
       "      <td>1</td>\n",
       "      <td>0</td>\n",
       "      <td>...</td>\n",
       "      <td>0</td>\n",
       "      <td>0</td>\n",
       "      <td>0</td>\n",
       "      <td>0</td>\n",
       "      <td>0</td>\n",
       "      <td>0</td>\n",
       "      <td>0</td>\n",
       "      <td>0</td>\n",
       "      <td>0</td>\n",
       "      <td>0</td>\n",
       "    </tr>\n",
       "    <tr>\n",
       "      <th>7</th>\n",
       "      <td>-1</td>\n",
       "      <td>0</td>\n",
       "      <td>0</td>\n",
       "      <td>1</td>\n",
       "      <td>0</td>\n",
       "      <td>0</td>\n",
       "      <td>0</td>\n",
       "      <td>0</td>\n",
       "      <td>1</td>\n",
       "      <td>0</td>\n",
       "      <td>...</td>\n",
       "      <td>0</td>\n",
       "      <td>0</td>\n",
       "      <td>0</td>\n",
       "      <td>0</td>\n",
       "      <td>0</td>\n",
       "      <td>0</td>\n",
       "      <td>0</td>\n",
       "      <td>0</td>\n",
       "      <td>0</td>\n",
       "      <td>0</td>\n",
       "    </tr>\n",
       "    <tr>\n",
       "      <th>90431</th>\n",
       "      <td>1</td>\n",
       "      <td>0</td>\n",
       "      <td>0</td>\n",
       "      <td>1</td>\n",
       "      <td>0</td>\n",
       "      <td>0</td>\n",
       "      <td>0</td>\n",
       "      <td>0</td>\n",
       "      <td>0</td>\n",
       "      <td>1</td>\n",
       "      <td>...</td>\n",
       "      <td>0</td>\n",
       "      <td>0</td>\n",
       "      <td>0</td>\n",
       "      <td>0</td>\n",
       "      <td>0</td>\n",
       "      <td>1</td>\n",
       "      <td>0</td>\n",
       "      <td>0</td>\n",
       "      <td>0</td>\n",
       "      <td>0</td>\n",
       "    </tr>\n",
       "    <tr>\n",
       "      <th>115727</th>\n",
       "      <td>1</td>\n",
       "      <td>0</td>\n",
       "      <td>1</td>\n",
       "      <td>0</td>\n",
       "      <td>0</td>\n",
       "      <td>0</td>\n",
       "      <td>0</td>\n",
       "      <td>0</td>\n",
       "      <td>1</td>\n",
       "      <td>0</td>\n",
       "      <td>...</td>\n",
       "      <td>1</td>\n",
       "      <td>0</td>\n",
       "      <td>0</td>\n",
       "      <td>0</td>\n",
       "      <td>0</td>\n",
       "      <td>0</td>\n",
       "      <td>0</td>\n",
       "      <td>0</td>\n",
       "      <td>0</td>\n",
       "      <td>0</td>\n",
       "    </tr>\n",
       "    <tr>\n",
       "      <th>105752</th>\n",
       "      <td>1</td>\n",
       "      <td>0</td>\n",
       "      <td>0</td>\n",
       "      <td>0</td>\n",
       "      <td>1</td>\n",
       "      <td>0</td>\n",
       "      <td>0</td>\n",
       "      <td>0</td>\n",
       "      <td>1</td>\n",
       "      <td>0</td>\n",
       "      <td>...</td>\n",
       "      <td>0</td>\n",
       "      <td>0</td>\n",
       "      <td>1</td>\n",
       "      <td>0</td>\n",
       "      <td>0</td>\n",
       "      <td>0</td>\n",
       "      <td>0</td>\n",
       "      <td>0</td>\n",
       "      <td>0</td>\n",
       "      <td>0</td>\n",
       "    </tr>\n",
       "  </tbody>\n",
       "</table>\n",
       "<p>6 rows × 26 columns</p>\n",
       "</div>"
      ],
      "text/plain": [
       "        safe_loans  grade.C  grade.F  grade.B  grade.D  grade.A  grade.E  \\\n",
       "1               -1        1        0        0        0        0        0   \n",
       "6               -1        0        1        0        0        0        0   \n",
       "7               -1        0        0        1        0        0        0   \n",
       "90431            1        0        0        1        0        0        0   \n",
       "115727           1        0        1        0        0        0        0   \n",
       "105752           1        0        0        0        1        0        0   \n",
       "\n",
       "        grade.G  term. 60 months  term. 36 months         ...          \\\n",
       "1             0                1                0         ...           \n",
       "6             0                1                0         ...           \n",
       "7             0                1                0         ...           \n",
       "90431         0                0                1         ...           \n",
       "115727        0                1                0         ...           \n",
       "105752        0                1                0         ...           \n",
       "\n",
       "        emp_length.3 years  emp_length.10+ years  emp_length.1 year  \\\n",
       "1                        0                     0                  0   \n",
       "6                        0                     0                  0   \n",
       "7                        0                     0                  0   \n",
       "90431                    0                     0                  0   \n",
       "115727                   1                     0                  0   \n",
       "105752                   0                     0                  1   \n",
       "\n",
       "        emp_length.9 years  emp_length.2 years  emp_length.8 years  \\\n",
       "1                        0                   0                   0   \n",
       "6                        0                   0                   0   \n",
       "7                        0                   0                   0   \n",
       "90431                    0                   0                   1   \n",
       "115727                   0                   0                   0   \n",
       "105752                   0                   0                   0   \n",
       "\n",
       "        emp_length.7 years  emp_length.5 years  emp_length.n/a  \\\n",
       "1                        0                   0               0   \n",
       "6                        0                   0               0   \n",
       "7                        0                   0               0   \n",
       "90431                    0                   0               0   \n",
       "115727                   0                   0               0   \n",
       "105752                   0                   0               0   \n",
       "\n",
       "        emp_length.6 years  \n",
       "1                        0  \n",
       "6                        0  \n",
       "7                        0  \n",
       "90431                    0  \n",
       "115727                   0  \n",
       "105752                   0  \n",
       "\n",
       "[6 rows x 26 columns]"
      ]
     },
     "execution_count": 5,
     "metadata": {},
     "output_type": "execute_result"
    }
   ],
   "source": [
    "categorical_variables = []\n",
    "for feat_name, feat_type in zip(loans_data.columns.values,loans_data.dtypes):\n",
    "    if feat_type == object:\n",
    "        categorical_variables.append(feat_name)\n",
    "\n",
    "for feature in categorical_variables:\n",
    "    feat_value = loans_data[feature].unique()\n",
    "    loans_data_one_hot_encoded = pd.DataFrame()\n",
    "    for val in feat_value:\n",
    "        label = feature + '.' + val\n",
    "        loans_data_one_hot_encoded[label] = loans_data[feature].apply(lambda x: 1 if x == val else 0)\n",
    "    loans_data = pd.concat([loans_data, loans_data_one_hot_encoded], axis=1)\n",
    "loans_data = loans_data.drop(categorical_variables,axis=1)\n",
    "\n",
    "loans_data.head(3).append(loans_data.tail(3))        "
   ]
  },
  {
   "cell_type": "code",
   "execution_count": 6,
   "metadata": {},
   "outputs": [
    {
     "data": {
      "text/plain": [
       "array(['grade.C', 'grade.F', 'grade.B', 'grade.D', 'grade.A', 'grade.E',\n",
       "       'grade.G', 'term. 60 months', 'term. 36 months',\n",
       "       'home_ownership.RENT', 'home_ownership.OWN',\n",
       "       'home_ownership.MORTGAGE', 'home_ownership.OTHER',\n",
       "       'emp_length.< 1 year', 'emp_length.4 years', 'emp_length.3 years',\n",
       "       'emp_length.10+ years', 'emp_length.1 year', 'emp_length.9 years',\n",
       "       'emp_length.2 years', 'emp_length.8 years', 'emp_length.7 years',\n",
       "       'emp_length.5 years', 'emp_length.n/a', 'emp_length.6 years'], dtype=object)"
      ]
     },
     "execution_count": 6,
     "metadata": {},
     "output_type": "execute_result"
    }
   ],
   "source": [
    "features = loans_data.columns.values\n",
    "features = features[features != target]\n",
    "features"
   ]
  },
  {
   "cell_type": "markdown",
   "metadata": {},
   "source": [
    "### Train-test split\n",
    "\n",
    "We split the data into training and test sets using an 80/20 split and specifying `random_state=0` so everyone gets the same results. Call the training and test sets train_data and test, respectively."
   ]
  },
  {
   "cell_type": "code",
   "execution_count": 7,
   "metadata": {},
   "outputs": [
    {
     "name": "stdout",
     "output_type": "stream",
     "text": [
      "(37040, 26) (9260, 26)\n"
     ]
    }
   ],
   "source": [
    "(train_data, test_data) = train_test_split( loans_data, \n",
    "                             train_size=0.8, random_state=0 )\n",
    "print( train_data.shape, test_data.shape )"
   ]
  },
  {
   "cell_type": "markdown",
   "metadata": {},
   "source": [
    "# <font color='red'>Weighted decision trees</font>"
   ]
  },
  {
   "cell_type": "markdown",
   "metadata": {},
   "source": [
    "### Weighted error definition\n",
    "\n",
    "Consider a model with $N$ data points with:\n",
    "* Predictions $\\hat{y}_1 ... \\hat{y}_n$ \n",
    "* Target $y_1 ... y_n$ \n",
    "* Data point weights $u_1 ... u_n$.\n",
    "\n",
    "Then the **weighted error** is defined by:\n",
    "$$\n",
    "\\mathrm{E}(\\mathbf{u}, \\mathbf{\\hat{y}}) = \\frac{\\sum_{i=1}^{n} u_i \\times 1[y_i \\neq \\hat{y_i}]}{\\sum_{i=1}^{n} u_i}\n",
    "$$\n",
    "where $1[y_i \\neq \\hat{y_i}]$ is an indicator function that is set to $1$ if $y_i \\neq \\hat{y_i}$.\n",
    "\n",
    "\n",
    "### Write a function to compute weight of mistakes\n",
    "\n",
    "Write a function that calculates the weight of mistakes for making the \"weighted-majority\" predictions for a dataset. The function accepts two inputs:\n",
    "* `labels_in_node`: Targets $y_1 ... y_n$ \n",
    "* `data_weights`: Data point weights $u_1 ... u_n$\n",
    "\n",
    "We are interested in computing the (total) weight of mistakes, i.e.\n",
    "$$\n",
    "\\mathrm{WM}(\\mathbf{u}, \\mathbf{\\hat{y}}) = \\sum_{i=1}^{n} u_i \\times 1[y_i \\neq \\hat{y_i}].\n",
    "$$\n",
    "This quantity is analogous to the number of mistakes, except that each mistake now carries different weight. It is related to the weighted error in the following way:\n",
    "$$\n",
    "\\mathrm{E}(\\mathbf{u}, \\mathbf{\\hat{y}}) = \\frac{\\mathrm{WM}(\\mathbf{u}, \\mathbf{\\hat{y}})}{\\sum_{i=1}^{n} u_i}\n",
    "$$\n",
    "\n",
    "The function **count_weighted_mistakes** should first compute two weights: \n",
    " * $\\mathrm{WM}_{-1}$: weight of mistakes when all predictions are $\\hat{y}_i = -1$ i.e $\\mathrm{WM}(\\mathbf{u}, \\mathbf{-1}$)\n",
    " * $\\mathrm{WM}_{+1}$: weight of mistakes when all predictions are $\\hat{y}_i = +1$ i.e $\\mbox{WM}(\\mathbf{u}, \\mathbf{+1}$)\n",
    " \n",
    " where $\\mathbf{-1}$ and $\\mathbf{+1}$ are vectors where all values are -1 and +1 respectively.\n",
    " \n",
    "After computing $\\mathrm{WM}_{-1}$ and $\\mathrm{WM}_{+1}$, the function **count_weighted_mistakes** should return the lower of the two weights of mistakes, along with the class associated with that weight."
   ]
  },
  {
   "cell_type": "code",
   "execution_count": 8,
   "metadata": {
    "collapsed": true
   },
   "outputs": [],
   "source": [
    "def count_weighted_mistakes( labels_in_node, data_weights ):\n",
    "    # Count the weight of 1's (safe loans)\n",
    "    pos = np.array(labels_in_node == +1)\n",
    "    counter1 = sum(data_weights[pos])\n",
    "    \n",
    "    # Count the weight of -1's (risky loans)\n",
    "    neg = np.array(labels_in_node == -1)\n",
    "    counter_1 = sum(data_weights[neg])\n",
    "\n",
    "    # Return the weight of mistakes by majority rules\n",
    "    return (counter_1,1) if counter1 >= counter_1 else (counter1,-1)"
   ]
  },
  {
   "cell_type": "markdown",
   "metadata": {},
   "source": [
    "**Checkpoint:** Test your **count_weighted_mistakes** function, run the following cell:"
   ]
  },
  {
   "cell_type": "code",
   "execution_count": 9,
   "metadata": {},
   "outputs": [
    {
     "name": "stdout",
     "output_type": "stream",
     "text": [
      "Test passed!\n"
     ]
    }
   ],
   "source": [
    "example_labels = np.array([-1, -1, 1, 1, 1])\n",
    "example_data_weights = np.array([1., 2., .5, 1., 1.])\n",
    "\n",
    "if count_weighted_mistakes(example_labels, example_data_weights) == (2.5, -1):\n",
    "    print( 'Test passed!' )\n",
    "else:\n",
    "    print( 'Test failed... try again!' )"
   ]
  },
  {
   "cell_type": "markdown",
   "metadata": {},
   "source": [
    "### Function to pick best feature to split on"
   ]
  },
  {
   "cell_type": "markdown",
   "metadata": {},
   "source": [
    "The **best_splitting_feature** function is similar to the one from the ***decision tree notebook*** with two minor modifications:\n",
    "  1. The function **best_splitting_feature** should now accept an extra parameter `data_weights` to take account of weights of data points.\n",
    "  2. Instead of computing the number of mistakes in the left and right side of the split, we compute the weight of mistakes for both sides, add up the two weights, and divide it by the total weight of the data.\n",
    "  \n",
    "Complete the following function. Comments starting with `DIFFERENT HERE` mark the sections where the weighted version differs from the original implementation."
   ]
  },
  {
   "cell_type": "code",
   "execution_count": 10,
   "metadata": {},
   "outputs": [],
   "source": [
    "def best_splitting_feature( data, features, target, data_weights ):\n",
    "    best_feature = None\n",
    "    best_error = 10\n",
    "\n",
    "    # Loop through each feature to consider splitting on that feature\n",
    "    for feature in features:\n",
    "        \n",
    "        left = np.array( data[feature] == 0 )\n",
    "        right = np.array( data[feature] == 1 )\n",
    "        \n",
    "        # The left (right) split will have all data points where the feature value is 0 (1)\n",
    "        left_split = data[ left ]\n",
    "        right_split = data[ right ] \n",
    "        \n",
    "        # Apply the same filtering to data_weights to create left_data_weights, right_data_weights\n",
    "        left_data_weights = data_weights[ left ]\n",
    "        right_data_weights = data_weights[ right ]\n",
    "                    \n",
    "        # Calculate the weight of mistakes for left and right sides\n",
    "        left_weighted_mistakes, left_class = count_weighted_mistakes( left_split[target], left_data_weights )\n",
    "        right_weighted_mistakes, right_class = count_weighted_mistakes( right_split[target], right_data_weights )\n",
    "        \n",
    "        # Compute weighted error by computing\n",
    "        error = (left_weighted_mistakes+right_weighted_mistakes) / (sum(left_data_weights)+sum(right_data_weights))\n",
    "        \n",
    "        if error < best_error:\n",
    "            best_feature = feature\n",
    "            best_error = error\n",
    "\n",
    "    return best_feature  # Return the best feature we found"
   ]
  },
  {
   "cell_type": "code",
   "execution_count": 11,
   "metadata": {
    "scrolled": true
   },
   "outputs": [
    {
     "name": "stdout",
     "output_type": "stream",
     "text": [
      "Test passed!\n"
     ]
    }
   ],
   "source": [
    "example_data_weights = np.ones(len(train_data))*1.5\n",
    "if best_splitting_feature(train_data, features, target, example_data_weights) == 'term. 60 months':\n",
    "    print( 'Test passed!' )\n",
    "else:\n",
    "    print( 'Test failed... try again!' )"
   ]
  },
  {
   "cell_type": "markdown",
   "metadata": {},
   "source": [
    "**Very Optional**. Relationship between weighted error and weight of mistakes\n",
    "\n",
    "By definition, the weighted error is the weight of mistakes divided by the weight of all data points, so\n",
    "\n",
    "$$\n",
    "\\mathrm{E}(\\mathbf{u}, \\mathbf{\\hat{y}}) = \\frac{\\sum_{i=1}^{n} u_i \\times 1[y_i \\neq \\hat{y_i}]}{\\sum_{i=1}^{n} u_i} = \\frac{\\mathrm{WM}(\\mathbf{u}, \\mathbf{\\hat{y}})}{\\sum_{i=1}^{n} u_i}.\n",
    "$$\n",
    "\n",
    "In the code above, we obtain $\\mathrm{E}(\\mathbf{u}, \\mathbf{\\hat{y}})$ from the two weights of mistakes from both sides, $\\mathrm{WM}(\\mathbf{u}_{\\mathrm{left}}, \\mathbf{\\hat{y}}_{\\mathrm{left}})$ and $\\mathrm{WM}(\\mathbf{u}_{\\mathrm{right}}, \\mathbf{\\hat{y}}_{\\mathrm{right}})$. First, notice that the overall weight of mistakes $\\mathrm{WM}(\\mathbf{u}, \\mathbf{\\hat{y}})$ can be broken into two weights of mistakes over either side of the split:\n",
    "\n",
    "$$\n",
    "\\mathrm{WM}(\\mathbf{u}, \\mathbf{\\hat{y}})\n",
    "= \\sum_{i=1}^{n} u_i \\times 1[y_i \\neq \\hat{y_i}]\n",
    "= \\sum_{\\mathrm{left}} u_i \\times 1[y_i \\neq \\hat{y_i}]\n",
    " + \\sum_{\\mathrm{right}} u_i \\times 1[y_i \\neq \\hat{y_i}]\\\\\n",
    "= \\mathrm{WM}(\\mathbf{u}_{\\mathrm{left}}, \\mathbf{\\hat{y}}_{\\mathrm{left}}) + \\mathrm{WM}(\\mathbf{u}_{\\mathrm{right}}, \\mathbf{\\hat{y}}_{\\mathrm{right}})\n",
    "$$\n",
    "\n",
    "We then divide through by the total weight of all data points to obtain $\\mathrm{E}(\\mathbf{u}, \\mathbf{\\hat{y}})$:\n",
    "\n",
    "\n",
    "$$\n",
    "\\mathrm{E}(\\mathbf{u}, \\mathbf{\\hat{y}})\n",
    "= \\frac{\\mathrm{WM}(\\mathbf{u}_{\\mathrm{left}}, \\mathbf{\\hat{y}}_{\\mathrm{left}}) + \\mathrm{WM}(\\mathbf{u}_{\\mathrm{right}}, \\mathbf{\\hat{y}}_{\\mathrm{right}})}{\\sum_{i=1}^{n} u_i}\n",
    "$$"
   ]
  },
  {
   "cell_type": "markdown",
   "metadata": {},
   "source": [
    "### Building the tree\n",
    "\n",
    "With the above functions implemented correctly, we are now ready to build our decision tree.\n",
    "\n",
    "    { \n",
    "       'is_leaf'            : True/False.\n",
    "       'prediction'         : Prediction at the leaf node.\n",
    "       'left'               : (dictionary corresponding to the left tree).\n",
    "       'right'              : (dictionary corresponding to the right tree).\n",
    "       'features_remaining' : List of features that are posible splits.\n",
    "    }"
   ]
  },
  {
   "cell_type": "code",
   "execution_count": 12,
   "metadata": {
    "collapsed": true
   },
   "outputs": [],
   "source": [
    "def create_leaf( target_values, data_weights ):\n",
    "    \n",
    "    leaf = {'splitting_feature' : None,\n",
    "            'left': None,\n",
    "            'right': None,\n",
    "            'is_leaf': True}\n",
    "    \n",
    "    leaf['prediction'] = count_weighted_mistakes(target_values, data_weights)[1]\n",
    "    \n",
    "    return leaf"
   ]
  },
  {
   "cell_type": "markdown",
   "metadata": {},
   "source": [
    "We provide a function that learns a weighted decision tree recursively and implements 3 stopping conditions:\n",
    "1. All data points in a node are from the same class.\n",
    "2. No more features to split on.\n",
    "3. Stop growing the tree when the tree depth reaches **max_depth**. "
   ]
  },
  {
   "cell_type": "code",
   "execution_count": 13,
   "metadata": {},
   "outputs": [],
   "source": [
    "def weighted_decision_tree( data, features, target, data_weights, current_depth = 1, max_depth = 10 ):\n",
    "    remaining_features = features[:] # Make a copy of the features.\n",
    "    target_values = data[target]\n",
    "    print( \"--------------------------------------------------------------------\" )\n",
    "    print( \"Subtree, depth = %s (%s data points).\" % (current_depth, len(target_values)) )\n",
    "    \n",
    "    # Stopping condition 1. Error is almost 0.\n",
    "    if count_weighted_mistakes(target_values, data_weights)[0] <= 1e-15:\n",
    "        print( \"Stopping condition 1 reached.\" )               \n",
    "        return create_leaf(target_values, data_weights)\n",
    "    \n",
    "    # Stopping condition 2. No more features.\n",
    "    if len(remaining_features) == 0:\n",
    "        print( \"Stopping condition 2 reached.\" )                \n",
    "        return create_leaf(target_values, data_weights)    \n",
    "    \n",
    "    # Additional stopping condition (limit tree depth)\n",
    "    if current_depth > max_depth:\n",
    "        print( \"Reached maximum depth. Stopping for now.\" )\n",
    "        return create_leaf(target_values, data_weights)\n",
    "    \n",
    "    # Find the best splitting feature\n",
    "    splitting_feature = best_splitting_feature( data, features, target, data_weights )\n",
    "    \n",
    "    left = np.array( data[splitting_feature] == 0 )\n",
    "    right = np.array( data[splitting_feature] == 1 )\n",
    "    \n",
    "    left_split = data[ left ]\n",
    "    right_split = data[ right ]\n",
    "    \n",
    "    left_data_weights = data_weights[ left ]\n",
    "    right_data_weights = data_weights[ right ]\n",
    "    \n",
    "    remaining_features = remaining_features[remaining_features != splitting_feature]\n",
    "    print( \"Split on feature %s. (%s, %s)\" % (\\\n",
    "              splitting_feature, len(left_split), len(right_split)) )\n",
    "    \n",
    "    # Create a leaf node if the split is \"perfect\"\n",
    "    if len(left_split) == len(data):\n",
    "        print( \"Creating leaf node.\" )\n",
    "        return create_leaf(left_split[target], data_weights)\n",
    "    if len(right_split) == len(data):\n",
    "        print( \"Creating leaf node.\" )\n",
    "        return create_leaf(right_split[target], data_weights)\n",
    "    \n",
    "    # Repeat on left and right subtrees\n",
    "    left_tree = weighted_decision_tree( left_split, remaining_features, target, left_data_weights, \n",
    "                                       current_depth + 1, max_depth )\n",
    "    right_tree = weighted_decision_tree( right_split, remaining_features, target, right_data_weights, \n",
    "                                        current_depth + 1, max_depth )\n",
    "    \n",
    "    return {'is_leaf'          : False, \n",
    "            'prediction'       : None,\n",
    "            'splitting_feature': splitting_feature,\n",
    "            'left'             : left_tree, \n",
    "            'right'            : right_tree}"
   ]
  },
  {
   "cell_type": "markdown",
   "metadata": {},
   "source": [
    "Here is a recursive function to count the nodes in your tree:"
   ]
  },
  {
   "cell_type": "code",
   "execution_count": 14,
   "metadata": {},
   "outputs": [],
   "source": [
    "def count_nodes(tree):\n",
    "    if tree['is_leaf']:\n",
    "        return 1\n",
    "    return 1 + count_nodes(tree['left']) + count_nodes(tree['right'])"
   ]
  },
  {
   "cell_type": "markdown",
   "metadata": {},
   "source": [
    "Run the following test code to check your implementation. Make sure you get **'Test passed'** before proceeding."
   ]
  },
  {
   "cell_type": "code",
   "execution_count": 15,
   "metadata": {},
   "outputs": [
    {
     "name": "stdout",
     "output_type": "stream",
     "text": [
      "--------------------------------------------------------------------\n",
      "Subtree, depth = 1 (37040 data points).\n",
      "Split on feature term. 60 months. (27703, 9337)\n",
      "--------------------------------------------------------------------\n",
      "Subtree, depth = 2 (27703 data points).\n",
      "Split on feature grade.D. (23068, 4635)\n",
      "--------------------------------------------------------------------\n",
      "Subtree, depth = 3 (23068 data points).\n",
      "Reached maximum depth. Stopping for now.\n",
      "--------------------------------------------------------------------\n",
      "Subtree, depth = 3 (4635 data points).\n",
      "Reached maximum depth. Stopping for now.\n",
      "--------------------------------------------------------------------\n",
      "Subtree, depth = 2 (9337 data points).\n",
      "Split on feature grade.A. (9216, 121)\n",
      "--------------------------------------------------------------------\n",
      "Subtree, depth = 3 (9216 data points).\n",
      "Reached maximum depth. Stopping for now.\n",
      "--------------------------------------------------------------------\n",
      "Subtree, depth = 3 (121 data points).\n",
      "Reached maximum depth. Stopping for now.\n",
      "Test passed!\n"
     ]
    }
   ],
   "source": [
    "example_data_weights = np.ones(len(train_data))\n",
    "small_data_decision_tree = weighted_decision_tree( train_data, features, target, \n",
    "                                                   example_data_weights, max_depth=2 )\n",
    "if count_nodes(small_data_decision_tree) == 7:\n",
    "    print( 'Test passed!' )\n",
    "else:\n",
    "    print( 'Test failed... try again!' )\n",
    "    print( 'Number of nodes found:', count_nodes(small_data_decision_tree) )\n",
    "    print( 'Number of nodes that should be there: 7' )"
   ]
  },
  {
   "cell_type": "markdown",
   "metadata": {},
   "source": [
    "Let us take a quick look at what the trained tree is like."
   ]
  },
  {
   "cell_type": "code",
   "execution_count": 16,
   "metadata": {},
   "outputs": [
    {
     "data": {
      "text/plain": [
       "{'is_leaf': False,\n",
       " 'left': {'is_leaf': False,\n",
       "  'left': {'is_leaf': True, 'prediction': 1, 'splitting_feature': None},\n",
       "  'prediction': None,\n",
       "  'right': {'is_leaf': True, 'prediction': -1, 'splitting_feature': None},\n",
       "  'splitting_feature': 'grade.D'},\n",
       " 'prediction': None,\n",
       " 'right': {'is_leaf': False,\n",
       "  'left': {'is_leaf': True, 'prediction': -1, 'splitting_feature': None},\n",
       "  'prediction': None,\n",
       "  'right': {'is_leaf': True, 'prediction': 1, 'splitting_feature': None},\n",
       "  'splitting_feature': 'grade.A'},\n",
       " 'splitting_feature': 'term. 60 months'}"
      ]
     },
     "execution_count": 16,
     "metadata": {},
     "output_type": "execute_result"
    }
   ],
   "source": [
    "small_data_decision_tree"
   ]
  },
  {
   "cell_type": "markdown",
   "metadata": {},
   "source": [
    "### Making predictions with a weighted decision tree"
   ]
  },
  {
   "cell_type": "markdown",
   "metadata": {},
   "source": [
    "We can make predictions from the decision tree with a simple recursive function. Below, we call this function `classify`, which takes in a learned `tree` and a test point `x` to classify.  We include an option `annotate` that describes the prediction path when set to `True`."
   ]
  },
  {
   "cell_type": "code",
   "execution_count": 17,
   "metadata": {
    "collapsed": true
   },
   "outputs": [],
   "source": [
    "def classify( tree, x, annotate = False ):   \n",
    "    # if the node is a leaf node.\n",
    "    if tree['is_leaf']:\n",
    "        if annotate: \n",
    "            print( \"At leaf, predicting %s\" % tree['prediction'] )\n",
    "        return tree['prediction'] \n",
    "    else:\n",
    "        # split on feature.\n",
    "        split_feature_value = x[tree['splitting_feature']]\n",
    "        if annotate: \n",
    "            print( \"Split on %s = %s\" % (tree['splitting_feature'], split_feature_value) )\n",
    "        if split_feature_value == 0:\n",
    "            return classify( tree['left'], x, annotate )\n",
    "        else:\n",
    "            return classify( tree['right'], x, annotate )"
   ]
  },
  {
   "cell_type": "markdown",
   "metadata": {},
   "source": [
    "### Evaluating the weighted tree\n",
    "\n",
    "Now, we will write a function to evaluate a decision tree by computing the classification error of the tree on the given dataset.\n",
    "\n",
    "Again, recall that the **classification error** is defined as follows:\n",
    "$$\n",
    "\\mbox{classification error} = \\frac{\\mbox{# mistakes}}{\\mbox{# total examples}}\n",
    "$$\n",
    "\n",
    "Now, write a function called `misclassify_error` that takes in as input:\n",
    "1. `tree` (as described above)\n",
    "2. `data` (a dataframe)\n",
    "\n",
    "This function should return a prediction (class label) for each row in `data` using the decision `tree`."
   ]
  },
  {
   "cell_type": "code",
   "execution_count": 18,
   "metadata": {
    "collapsed": true
   },
   "outputs": [],
   "source": [
    "def misclassify_error( tree, data ):\n",
    "    # Apply the classify(tree, x) to each row in your data\n",
    "    prediction = data.apply( lambda x: classify(tree, x), axis=1 )\n",
    "    true_label = data[\"safe_loans\"]\n",
    "    return (prediction!=true_label).sum() / float(len(prediction))"
   ]
  },
  {
   "cell_type": "code",
   "execution_count": 20,
   "metadata": {},
   "outputs": [
    {
     "data": {
      "text/plain": [
       "0.40593952483801293"
      ]
     },
     "execution_count": 20,
     "metadata": {},
     "output_type": "execute_result"
    }
   ],
   "source": [
    "misclassify_error( small_data_decision_tree, test_data )"
   ]
  },
  {
   "cell_type": "markdown",
   "metadata": {},
   "source": [
    "### Example: Training a weighted decision tree\n",
    "\n",
    "To build intuition on how weighted data points affect the tree being built, consider the following:\n",
    "\n",
    "Suppose we only care about making good predictions for the **first 10 and last 10 items** in `train_data`, we assign weights:\n",
    "* 1 to the last 10 items \n",
    "* 1 to the first 10 items \n",
    "* and 0 to the rest. \n",
    "\n",
    "Let us fit a weighted decision tree with `max_depth = 2`."
   ]
  },
  {
   "cell_type": "code",
   "execution_count": 21,
   "metadata": {},
   "outputs": [
    {
     "name": "stdout",
     "output_type": "stream",
     "text": [
      "--------------------------------------------------------------------\n",
      "Subtree, depth = 1 (37040 data points).\n",
      "Split on feature grade.D. (30312, 6728)\n",
      "--------------------------------------------------------------------\n",
      "Subtree, depth = 2 (30312 data points).\n",
      "Split on feature grade.C. (20906, 9406)\n",
      "--------------------------------------------------------------------\n",
      "Subtree, depth = 3 (20906 data points).\n",
      "Reached maximum depth. Stopping for now.\n",
      "--------------------------------------------------------------------\n",
      "Subtree, depth = 3 (9406 data points).\n",
      "Reached maximum depth. Stopping for now.\n",
      "--------------------------------------------------------------------\n",
      "Subtree, depth = 2 (6728 data points).\n",
      "Stopping condition 1 reached.\n"
     ]
    }
   ],
   "source": [
    "example_data_weights = np.array([1.] * 10 + [0.]*(len(train_data) - 20) + [1.] * 10)\n",
    "small_data_decision_tree_subset_20 = weighted_decision_tree(train_data, features, target,\n",
    "                                     example_data_weights, max_depth=2)"
   ]
  },
  {
   "cell_type": "markdown",
   "metadata": {},
   "source": [
    "Now, we will compute the classification error on the `subset_20`, i.e. the subset of data points whose weight is 1 (namely the first and last 10 data points). Then compare the classification error of the model `small_data_decision_tree_subset_20` on the entire test set `train_data`:"
   ]
  },
  {
   "cell_type": "code",
   "execution_count": 22,
   "metadata": {},
   "outputs": [
    {
     "data": {
      "text/plain": [
       "0.14999999999999999"
      ]
     },
     "execution_count": 22,
     "metadata": {},
     "output_type": "execute_result"
    }
   ],
   "source": [
    "subset_20 = train_data.head(10).append(train_data.tail(10))\n",
    "misclassify_error( small_data_decision_tree_subset_20, subset_20 )"
   ]
  },
  {
   "cell_type": "code",
   "execution_count": 23,
   "metadata": {},
   "outputs": [
    {
     "data": {
      "text/plain": [
       "0.44686825053995682"
      ]
     },
     "execution_count": 23,
     "metadata": {},
     "output_type": "execute_result"
    }
   ],
   "source": [
    "misclassify_error( small_data_decision_tree_subset_20, train_data )"
   ]
  },
  {
   "cell_type": "markdown",
   "metadata": {},
   "source": [
    "The model `small_data_decision_tree_subset_20` performs **a lot** better on `subset_20` than on `train_data`.\n",
    "\n",
    "So, what does this mean?\n",
    "* The points with higher weights are the ones that are more important during the training process of the weighted decision tree.\n",
    "* The points with zero weights are basically ignored during training."
   ]
  },
  {
   "cell_type": "markdown",
   "metadata": {},
   "source": [
    "# <font color='red'>Implementing your own Adaboost (on decision stumps)</font>"
   ]
  },
  {
   "cell_type": "markdown",
   "metadata": {},
   "source": [
    "Now that we have a weighted decision tree working, it takes only a bit of work to implement Adaboost. For the sake of simplicity, let us stick with **decision tree stumps** by training trees with **`max_depth=1`**."
   ]
  },
  {
   "cell_type": "markdown",
   "metadata": {},
   "source": [
    "The procedure for Adaboost is as follows:\n",
    "\n",
    "1\\. Start with unweighted data with $u_j = \\frac{1}{n}$\n",
    "\n",
    "2\\. For t = 1,...T:\n",
    "  * Learn $f_t(x)$ with data weights $u_j$\n",
    "  * Compute coefficient $\\hat{w}_t$:\n",
    "     $$\\hat{w}_t = \\frac{1}{2}\\ln{\\left(\\frac{1- \\mbox{E}(\\mathbf{u}, \\mathbf{\\hat{y}})}{\\mbox{E}(\\mathbf{u}, \\mathbf{\\hat{y}})}\\right)}$$\n",
    "  * Re-compute weights $u_j$:\n",
    "     $$u_j \\gets \\begin{cases}\n",
    "     u_j \\exp{(-\\hat{w}_t)} & \\text{ if }f_t(x_j) = y_j\\\\\n",
    "     u_j \\exp{(\\hat{w}_t)} & \\text{ if }f_t(x_j) \\neq y_j\n",
    "     \\end{cases}$$\n",
    "  * Normalize weights $u_j$:\n",
    "      $$u_j \\gets \\frac{u_j}{\\sum_{i=1}^{N}{u_i}} $$\n"
   ]
  },
  {
   "cell_type": "code",
   "execution_count": 28,
   "metadata": {},
   "outputs": [],
   "source": [
    "def adaboost_tree_stumps( data, features, target, num_tree_stumps ):\n",
    "    u = np.ones(len(data)) / len(data)\n",
    "    weights = []\n",
    "    tree_stumps = []\n",
    "    target_values = data[target]\n",
    "    \n",
    "    for t in range(num_tree_stumps):\n",
    "        print( '=====================================================' )\n",
    "        print( 'Adaboost Iteration %d' % t )\n",
    "        print( '=====================================================' )       \n",
    "        # Learn a weighted decision tree stump. Use max_depth=1\n",
    "        tree_stump = weighted_decision_tree( data, features, target, data_weights=u, max_depth=1 )\n",
    "        tree_stumps.append(tree_stump)\n",
    "        \n",
    "        # Make predictions\n",
    "        predictions = data.apply( lambda x: classify(tree_stump, x), axis=1 )\n",
    "                \n",
    "        # Produce a Boolean array indicating whether each data point was correctly classified\n",
    "        is_correct = np.array( predictions == target_values )\n",
    "        is_wrong   = np.array( predictions != target_values )\n",
    "                \n",
    "        # Compute weighted error\n",
    "        weighted_error = sum(u[is_wrong]) / sum(u)\n",
    "        \n",
    "        # Compute model coefficient using weighted error\n",
    "        w = 0.5 * np.log( (1-weighted_error) / weighted_error )\n",
    "        weights.append(w)\n",
    "               \n",
    "        # Adjust weights on data point\n",
    "        c = np.exp(w*(1-2*is_correct))\n",
    "                \n",
    "        # Scale alpha by multiplying by adjustment and normalize\n",
    "        u *= c\n",
    "        u /= sum(u)\n",
    "    \n",
    "    return weights, tree_stumps"
   ]
  },
  {
   "cell_type": "markdown",
   "metadata": {},
   "source": [
    "### Checking your Adaboost code\n",
    "\n",
    "Train an ensemble of **two** tree stumps and see which features those stumps split on. We will run the algorithm with the following parameters:\n",
    "* `train_data`\n",
    "* `features`\n",
    "* `target`\n",
    "* `num_tree_stumps = 2`"
   ]
  },
  {
   "cell_type": "code",
   "execution_count": 29,
   "metadata": {},
   "outputs": [
    {
     "name": "stdout",
     "output_type": "stream",
     "text": [
      "=====================================================\n",
      "Adaboost Iteration 0\n",
      "=====================================================\n",
      "--------------------------------------------------------------------\n",
      "Subtree, depth = 1 (37040 data points).\n",
      "Split on feature term. 60 months. (27703, 9337)\n",
      "--------------------------------------------------------------------\n",
      "Subtree, depth = 2 (27703 data points).\n",
      "Reached maximum depth. Stopping for now.\n",
      "--------------------------------------------------------------------\n",
      "Subtree, depth = 2 (9337 data points).\n",
      "Reached maximum depth. Stopping for now.\n",
      "=====================================================\n",
      "Adaboost Iteration 1\n",
      "=====================================================\n",
      "--------------------------------------------------------------------\n",
      "Subtree, depth = 1 (37040 data points).\n",
      "Split on feature grade.A. (31851, 5189)\n",
      "--------------------------------------------------------------------\n",
      "Subtree, depth = 2 (31851 data points).\n",
      "Reached maximum depth. Stopping for now.\n",
      "--------------------------------------------------------------------\n",
      "Subtree, depth = 2 (5189 data points).\n",
      "Reached maximum depth. Stopping for now.\n"
     ]
    }
   ],
   "source": [
    "stump_weights, tree_stumps = adaboost_tree_stumps( train_data, features, target, num_tree_stumps=2 )"
   ]
  },
  {
   "cell_type": "code",
   "execution_count": 30,
   "metadata": {
    "collapsed": true
   },
   "outputs": [],
   "source": [
    "def print_stump( tree, name = 'root' ):\n",
    "    split_name = tree['splitting_feature']\n",
    "    if split_name is None:\n",
    "        print( \"(leaf, label: %s)\" % tree['prediction'] )\n",
    "        return None\n",
    "    split_feature, split_value = split_name.split('.')\n",
    "    print( '                       %s' % name          )\n",
    "    print( '         |---------------|----------------|')\n",
    "    print( '         |                                |')\n",
    "    print( '         |                                |')\n",
    "    print( '         |                                |')\n",
    "    print( '  [{0} == 0]               [{0} == 1]    '.format(split_name))\n",
    "    print( '         |                                |')\n",
    "    print( '         |                                |')\n",
    "    print( '         |                                |')\n",
    "    print( '    (%s)                         (%s)' \\\n",
    "        % (('leaf, label: ' + str(tree['left']['prediction']) \\\n",
    "            if tree['left']['is_leaf'] else 'subtree'),\n",
    "           ('leaf, label: ' + str(tree['right']['prediction']) \\\n",
    "            if tree['right']['is_leaf'] else 'subtree')) )"
   ]
  },
  {
   "cell_type": "markdown",
   "metadata": {},
   "source": [
    "Here is what the first stump looks like:"
   ]
  },
  {
   "cell_type": "code",
   "execution_count": 31,
   "metadata": {},
   "outputs": [
    {
     "name": "stdout",
     "output_type": "stream",
     "text": [
      "                       root\n",
      "         |---------------|----------------|\n",
      "         |                                |\n",
      "         |                                |\n",
      "         |                                |\n",
      "  [term. 60 months == 0]               [term. 60 months == 1]    \n",
      "         |                                |\n",
      "         |                                |\n",
      "         |                                |\n",
      "    (leaf, label: 1)                         (leaf, label: -1)\n"
     ]
    }
   ],
   "source": [
    "print_stump( tree_stumps[0] )"
   ]
  },
  {
   "cell_type": "markdown",
   "metadata": {},
   "source": [
    "Here is what the next stump looks like:"
   ]
  },
  {
   "cell_type": "code",
   "execution_count": 32,
   "metadata": {},
   "outputs": [
    {
     "name": "stdout",
     "output_type": "stream",
     "text": [
      "                       root\n",
      "         |---------------|----------------|\n",
      "         |                                |\n",
      "         |                                |\n",
      "         |                                |\n",
      "  [grade.A == 0]               [grade.A == 1]    \n",
      "         |                                |\n",
      "         |                                |\n",
      "         |                                |\n",
      "    (leaf, label: -1)                         (leaf, label: 1)\n"
     ]
    }
   ],
   "source": [
    "print_stump( tree_stumps[1] )"
   ]
  },
  {
   "cell_type": "code",
   "execution_count": 34,
   "metadata": {},
   "outputs": [
    {
     "name": "stdout",
     "output_type": "stream",
     "text": [
      "[0.15031196050043566, 0.1849274122072824]\n"
     ]
    }
   ],
   "source": [
    "print( stump_weights )"
   ]
  },
  {
   "cell_type": "markdown",
   "metadata": {},
   "source": [
    "If your Adaboost is correctly implemented, the following things should be true:\n",
    "\n",
    "* `tree_stumps[0]` should split on **term. 60 months** with the prediction -1 on the left and +1 on the right.\n",
    "* `tree_stumps[1]` should split on **grade.A** with the prediction -1 on the left and +1 on the right.\n",
    "* Weights should be approximately `[0.150, 0.185]` \n",
    "\n",
    "**Reminders**\n",
    "- Stump weights ($\\mathbf{\\hat{w}}$) and data point weights ($\\mathbf{u}$) are two different concepts.\n",
    "- Stump weights ($\\mathbf{\\hat{w}}$) tell you how important each stump is while making predictions with the entire boosted ensemble.\n",
    "- Data point weights ($\\mathbf{u}$) tell you how important each data point is while training a decision stump."
   ]
  },
  {
   "cell_type": "markdown",
   "metadata": {},
   "source": [
    "### Training a boosted ensemble of 10 stumps"
   ]
  },
  {
   "cell_type": "markdown",
   "metadata": {},
   "source": [
    "Let us train an ensemble of 10 decision tree stumps with Adaboost. We run the **adaboost_tree_stumps** function with the following parameters:\n",
    "* `train_data`\n",
    "* `features`\n",
    "* `target`\n",
    "* `num_tree_stumps = 10`"
   ]
  },
  {
   "cell_type": "code",
   "execution_count": 35,
   "metadata": {
    "scrolled": true
   },
   "outputs": [
    {
     "name": "stdout",
     "output_type": "stream",
     "text": [
      "=====================================================\n",
      "Adaboost Iteration 0\n",
      "=====================================================\n",
      "--------------------------------------------------------------------\n",
      "Subtree, depth = 1 (37040 data points).\n",
      "Split on feature term. 60 months. (27703, 9337)\n",
      "--------------------------------------------------------------------\n",
      "Subtree, depth = 2 (27703 data points).\n",
      "Reached maximum depth. Stopping for now.\n",
      "--------------------------------------------------------------------\n",
      "Subtree, depth = 2 (9337 data points).\n",
      "Reached maximum depth. Stopping for now.\n",
      "=====================================================\n",
      "Adaboost Iteration 1\n",
      "=====================================================\n",
      "--------------------------------------------------------------------\n",
      "Subtree, depth = 1 (37040 data points).\n",
      "Split on feature grade.A. (31851, 5189)\n",
      "--------------------------------------------------------------------\n",
      "Subtree, depth = 2 (31851 data points).\n",
      "Reached maximum depth. Stopping for now.\n",
      "--------------------------------------------------------------------\n",
      "Subtree, depth = 2 (5189 data points).\n",
      "Reached maximum depth. Stopping for now.\n",
      "=====================================================\n",
      "Adaboost Iteration 2\n",
      "=====================================================\n",
      "--------------------------------------------------------------------\n",
      "Subtree, depth = 1 (37040 data points).\n",
      "Split on feature grade.D. (30312, 6728)\n",
      "--------------------------------------------------------------------\n",
      "Subtree, depth = 2 (30312 data points).\n",
      "Reached maximum depth. Stopping for now.\n",
      "--------------------------------------------------------------------\n",
      "Subtree, depth = 2 (6728 data points).\n",
      "Reached maximum depth. Stopping for now.\n",
      "=====================================================\n",
      "Adaboost Iteration 3\n",
      "=====================================================\n",
      "--------------------------------------------------------------------\n",
      "Subtree, depth = 1 (37040 data points).\n",
      "Split on feature grade.B. (26892, 10148)\n",
      "--------------------------------------------------------------------\n",
      "Subtree, depth = 2 (26892 data points).\n",
      "Reached maximum depth. Stopping for now.\n",
      "--------------------------------------------------------------------\n",
      "Subtree, depth = 2 (10148 data points).\n",
      "Reached maximum depth. Stopping for now.\n",
      "=====================================================\n",
      "Adaboost Iteration 4\n",
      "=====================================================\n",
      "--------------------------------------------------------------------\n",
      "Subtree, depth = 1 (37040 data points).\n",
      "Split on feature home_ownership.RENT. (20307, 16733)\n",
      "--------------------------------------------------------------------\n",
      "Subtree, depth = 2 (20307 data points).\n",
      "Reached maximum depth. Stopping for now.\n",
      "--------------------------------------------------------------------\n",
      "Subtree, depth = 2 (16733 data points).\n",
      "Reached maximum depth. Stopping for now.\n",
      "=====================================================\n",
      "Adaboost Iteration 5\n",
      "=====================================================\n",
      "--------------------------------------------------------------------\n",
      "Subtree, depth = 1 (37040 data points).\n",
      "Split on feature grade.E. (33634, 3406)\n",
      "--------------------------------------------------------------------\n",
      "Subtree, depth = 2 (33634 data points).\n",
      "Reached maximum depth. Stopping for now.\n",
      "--------------------------------------------------------------------\n",
      "Subtree, depth = 2 (3406 data points).\n",
      "Reached maximum depth. Stopping for now.\n",
      "=====================================================\n",
      "Adaboost Iteration 6\n",
      "=====================================================\n",
      "--------------------------------------------------------------------\n",
      "Subtree, depth = 1 (37040 data points).\n",
      "Split on feature grade.A. (31851, 5189)\n",
      "--------------------------------------------------------------------\n",
      "Subtree, depth = 2 (31851 data points).\n",
      "Reached maximum depth. Stopping for now.\n",
      "--------------------------------------------------------------------\n",
      "Subtree, depth = 2 (5189 data points).\n",
      "Reached maximum depth. Stopping for now.\n",
      "=====================================================\n",
      "Adaboost Iteration 7\n",
      "=====================================================\n",
      "--------------------------------------------------------------------\n",
      "Subtree, depth = 1 (37040 data points).\n",
      "Split on feature grade.F. (35344, 1696)\n",
      "--------------------------------------------------------------------\n",
      "Subtree, depth = 2 (35344 data points).\n",
      "Reached maximum depth. Stopping for now.\n",
      "--------------------------------------------------------------------\n",
      "Subtree, depth = 2 (1696 data points).\n",
      "Reached maximum depth. Stopping for now.\n",
      "=====================================================\n",
      "Adaboost Iteration 8\n",
      "=====================================================\n",
      "--------------------------------------------------------------------\n",
      "Subtree, depth = 1 (37040 data points).\n",
      "Split on feature grade.D. (30312, 6728)\n",
      "--------------------------------------------------------------------\n",
      "Subtree, depth = 2 (30312 data points).\n",
      "Reached maximum depth. Stopping for now.\n",
      "--------------------------------------------------------------------\n",
      "Subtree, depth = 2 (6728 data points).\n",
      "Reached maximum depth. Stopping for now.\n",
      "=====================================================\n",
      "Adaboost Iteration 9\n",
      "=====================================================\n",
      "--------------------------------------------------------------------\n",
      "Subtree, depth = 1 (37040 data points).\n",
      "Split on feature emp_length.n/a. (35632, 1408)\n",
      "--------------------------------------------------------------------\n",
      "Subtree, depth = 2 (35632 data points).\n",
      "Reached maximum depth. Stopping for now.\n",
      "--------------------------------------------------------------------\n",
      "Subtree, depth = 2 (1408 data points).\n",
      "Reached maximum depth. Stopping for now.\n"
     ]
    }
   ],
   "source": [
    "stump_weights, tree_stumps = adaboost_tree_stumps( train_data, features, target, num_tree_stumps=10 )"
   ]
  },
  {
   "cell_type": "markdown",
   "metadata": {},
   "source": [
    "## Making predictions\n",
    "\n",
    "To make predictions, use the following formula:\n",
    "$$\n",
    "\\hat{y} = sign\\left(\\sum_{t=1}^T \\hat{w}_t f_t(x)\\right)\n",
    "$$\n",
    "\n",
    "We need to do the following things:\n",
    "- Compute the predictions $f_t(x)$ using the $t$-th decision tree\n",
    "- Compute $\\hat{w}_t f_t(x)$ by multiplying the `stump_weights` with the predictions $f_t(x)$ from the decision trees\n",
    "- Sum the weighted predictions over each stump in the ensemble."
   ]
  },
  {
   "cell_type": "code",
   "execution_count": 36,
   "metadata": {},
   "outputs": [],
   "source": [
    "def predict_adaboost( stump_weights, tree_stumps, data ):\n",
    "    scores = np.zeros(len(data))\n",
    "    \n",
    "    for i, tree_stump in enumerate(tree_stumps):\n",
    "        predictions = data.apply( lambda x: classify(tree_stump, x), axis=1 )\n",
    "        scores += predictions*stump_weights[i]\n",
    "        \n",
    "    return np.sign(scores)"
   ]
  },
  {
   "cell_type": "code",
   "execution_count": 37,
   "metadata": {},
   "outputs": [
    {
     "name": "stdout",
     "output_type": "stream",
     "text": [
      "Accuracy of 10-component ensemble = 0.610043196544\n"
     ]
    }
   ],
   "source": [
    "predictions = predict_adaboost( stump_weights, tree_stumps, test_data )\n",
    "true_label = test_data[target]\n",
    "accuracy = (predictions==true_label).sum() / float(len(predictions))\n",
    "print( 'Accuracy of 10-component ensemble = %s' % accuracy )"
   ]
  },
  {
   "cell_type": "markdown",
   "metadata": {},
   "source": [
    "Now, let us take a quick look what the `stump_weights` look like at the end of each iteration of the 10-stump ensemble:"
   ]
  },
  {
   "cell_type": "code",
   "execution_count": 38,
   "metadata": {},
   "outputs": [
    {
     "data": {
      "text/plain": [
       "[0.15031196050043566,\n",
       " 0.1849274122072824,\n",
       " 0.094627393102590177,\n",
       " 0.07188773432520823,\n",
       " 0.068872968176914878,\n",
       " 0.059354771550698293,\n",
       " 0.059431825657897584,\n",
       " 0.043248660704361501,\n",
       " 0.029107236839118273,\n",
       " 0.022453839558223831]"
      ]
     },
     "execution_count": 38,
     "metadata": {},
     "output_type": "execute_result"
    }
   ],
   "source": [
    "stump_weights"
   ]
  },
  {
   "cell_type": "markdown",
   "metadata": {},
   "source": [
    "**Reminder**: Stump weights ($\\mathbf{\\hat{w}}$) tell you how important each stump is while making predictions with the entire boosted ensemble."
   ]
  },
  {
   "cell_type": "markdown",
   "metadata": {},
   "source": [
    "# <font color=red>Performance Plots</font>"
   ]
  },
  {
   "cell_type": "markdown",
   "metadata": {},
   "source": [
    "### How does accuracy change with adding stumps to the ensemble?\n",
    "\n",
    "We will now train an ensemble with:\n",
    "* `train_data`\n",
    "* `features`\n",
    "* `target`\n",
    "* `num_tree_stumps = 30`\n",
    "\n",
    "Once we are done with this, we will then do the following:\n",
    "* Compute the classification error at the end of each iteration.\n",
    "* Plot a curve of classification error vs iteration.\n",
    "\n",
    "First, lets train the model. (**It may take a while**)"
   ]
  },
  {
   "cell_type": "code",
   "execution_count": 39,
   "metadata": {},
   "outputs": [
    {
     "name": "stdout",
     "output_type": "stream",
     "text": [
      "=====================================================\n",
      "Adaboost Iteration 0\n",
      "=====================================================\n",
      "--------------------------------------------------------------------\n",
      "Subtree, depth = 1 (37040 data points).\n",
      "Split on feature term. 60 months. (27703, 9337)\n",
      "--------------------------------------------------------------------\n",
      "Subtree, depth = 2 (27703 data points).\n",
      "Reached maximum depth. Stopping for now.\n",
      "--------------------------------------------------------------------\n",
      "Subtree, depth = 2 (9337 data points).\n",
      "Reached maximum depth. Stopping for now.\n",
      "=====================================================\n",
      "Adaboost Iteration 1\n",
      "=====================================================\n",
      "--------------------------------------------------------------------\n",
      "Subtree, depth = 1 (37040 data points).\n",
      "Split on feature grade.A. (31851, 5189)\n",
      "--------------------------------------------------------------------\n",
      "Subtree, depth = 2 (31851 data points).\n",
      "Reached maximum depth. Stopping for now.\n",
      "--------------------------------------------------------------------\n",
      "Subtree, depth = 2 (5189 data points).\n",
      "Reached maximum depth. Stopping for now.\n",
      "=====================================================\n",
      "Adaboost Iteration 2\n",
      "=====================================================\n",
      "--------------------------------------------------------------------\n",
      "Subtree, depth = 1 (37040 data points).\n",
      "Split on feature grade.D. (30312, 6728)\n",
      "--------------------------------------------------------------------\n",
      "Subtree, depth = 2 (30312 data points).\n",
      "Reached maximum depth. Stopping for now.\n",
      "--------------------------------------------------------------------\n",
      "Subtree, depth = 2 (6728 data points).\n",
      "Reached maximum depth. Stopping for now.\n",
      "=====================================================\n",
      "Adaboost Iteration 3\n",
      "=====================================================\n",
      "--------------------------------------------------------------------\n",
      "Subtree, depth = 1 (37040 data points).\n",
      "Split on feature grade.B. (26892, 10148)\n",
      "--------------------------------------------------------------------\n",
      "Subtree, depth = 2 (26892 data points).\n",
      "Reached maximum depth. Stopping for now.\n",
      "--------------------------------------------------------------------\n",
      "Subtree, depth = 2 (10148 data points).\n",
      "Reached maximum depth. Stopping for now.\n",
      "=====================================================\n",
      "Adaboost Iteration 4\n",
      "=====================================================\n",
      "--------------------------------------------------------------------\n",
      "Subtree, depth = 1 (37040 data points).\n",
      "Split on feature home_ownership.RENT. (20307, 16733)\n",
      "--------------------------------------------------------------------\n",
      "Subtree, depth = 2 (20307 data points).\n",
      "Reached maximum depth. Stopping for now.\n",
      "--------------------------------------------------------------------\n",
      "Subtree, depth = 2 (16733 data points).\n",
      "Reached maximum depth. Stopping for now.\n",
      "=====================================================\n",
      "Adaboost Iteration 5\n",
      "=====================================================\n",
      "--------------------------------------------------------------------\n",
      "Subtree, depth = 1 (37040 data points).\n",
      "Split on feature grade.E. (33634, 3406)\n",
      "--------------------------------------------------------------------\n",
      "Subtree, depth = 2 (33634 data points).\n",
      "Reached maximum depth. Stopping for now.\n",
      "--------------------------------------------------------------------\n",
      "Subtree, depth = 2 (3406 data points).\n",
      "Reached maximum depth. Stopping for now.\n",
      "=====================================================\n",
      "Adaboost Iteration 6\n",
      "=====================================================\n",
      "--------------------------------------------------------------------\n",
      "Subtree, depth = 1 (37040 data points).\n",
      "Split on feature grade.A. (31851, 5189)\n",
      "--------------------------------------------------------------------\n",
      "Subtree, depth = 2 (31851 data points).\n",
      "Reached maximum depth. Stopping for now.\n",
      "--------------------------------------------------------------------\n",
      "Subtree, depth = 2 (5189 data points).\n",
      "Reached maximum depth. Stopping for now.\n",
      "=====================================================\n",
      "Adaboost Iteration 7\n",
      "=====================================================\n",
      "--------------------------------------------------------------------\n",
      "Subtree, depth = 1 (37040 data points).\n",
      "Split on feature grade.F. (35344, 1696)\n",
      "--------------------------------------------------------------------\n",
      "Subtree, depth = 2 (35344 data points).\n",
      "Reached maximum depth. Stopping for now.\n",
      "--------------------------------------------------------------------\n",
      "Subtree, depth = 2 (1696 data points).\n",
      "Reached maximum depth. Stopping for now.\n",
      "=====================================================\n",
      "Adaboost Iteration 8\n",
      "=====================================================\n",
      "--------------------------------------------------------------------\n",
      "Subtree, depth = 1 (37040 data points).\n",
      "Split on feature grade.D. (30312, 6728)\n",
      "--------------------------------------------------------------------\n",
      "Subtree, depth = 2 (30312 data points).\n",
      "Reached maximum depth. Stopping for now.\n",
      "--------------------------------------------------------------------\n",
      "Subtree, depth = 2 (6728 data points).\n",
      "Reached maximum depth. Stopping for now.\n",
      "=====================================================\n",
      "Adaboost Iteration 9\n",
      "=====================================================\n",
      "--------------------------------------------------------------------\n",
      "Subtree, depth = 1 (37040 data points).\n",
      "Split on feature emp_length.n/a. (35632, 1408)\n",
      "--------------------------------------------------------------------\n",
      "Subtree, depth = 2 (35632 data points).\n",
      "Reached maximum depth. Stopping for now.\n",
      "--------------------------------------------------------------------\n",
      "Subtree, depth = 2 (1408 data points).\n",
      "Reached maximum depth. Stopping for now.\n",
      "=====================================================\n",
      "Adaboost Iteration 10\n",
      "=====================================================\n",
      "--------------------------------------------------------------------\n",
      "Subtree, depth = 1 (37040 data points).\n",
      "Split on feature grade.A. (31851, 5189)\n",
      "--------------------------------------------------------------------\n",
      "Subtree, depth = 2 (31851 data points).\n",
      "Reached maximum depth. Stopping for now.\n",
      "--------------------------------------------------------------------\n",
      "Subtree, depth = 2 (5189 data points).\n",
      "Reached maximum depth. Stopping for now.\n",
      "=====================================================\n",
      "Adaboost Iteration 11\n",
      "=====================================================\n",
      "--------------------------------------------------------------------\n",
      "Subtree, depth = 1 (37040 data points).\n",
      "Split on feature emp_length.n/a. (35632, 1408)\n",
      "--------------------------------------------------------------------\n",
      "Subtree, depth = 2 (35632 data points).\n",
      "Reached maximum depth. Stopping for now.\n",
      "--------------------------------------------------------------------\n",
      "Subtree, depth = 2 (1408 data points).\n",
      "Reached maximum depth. Stopping for now.\n",
      "=====================================================\n",
      "Adaboost Iteration 12\n",
      "=====================================================\n",
      "--------------------------------------------------------------------\n",
      "Subtree, depth = 1 (37040 data points).\n",
      "Split on feature grade.B. (26892, 10148)\n",
      "--------------------------------------------------------------------\n",
      "Subtree, depth = 2 (26892 data points).\n",
      "Reached maximum depth. Stopping for now.\n",
      "--------------------------------------------------------------------\n",
      "Subtree, depth = 2 (10148 data points).\n",
      "Reached maximum depth. Stopping for now.\n",
      "=====================================================\n",
      "Adaboost Iteration 13\n",
      "=====================================================\n",
      "--------------------------------------------------------------------\n",
      "Subtree, depth = 1 (37040 data points).\n",
      "Split on feature grade.C. (27634, 9406)\n",
      "--------------------------------------------------------------------\n",
      "Subtree, depth = 2 (27634 data points).\n",
      "Reached maximum depth. Stopping for now.\n",
      "--------------------------------------------------------------------\n",
      "Subtree, depth = 2 (9406 data points).\n",
      "Reached maximum depth. Stopping for now.\n",
      "=====================================================\n",
      "Adaboost Iteration 14\n",
      "=====================================================\n",
      "--------------------------------------------------------------------\n",
      "Subtree, depth = 1 (37040 data points).\n",
      "Split on feature emp_length.n/a. (35632, 1408)\n",
      "--------------------------------------------------------------------\n",
      "Subtree, depth = 2 (35632 data points).\n",
      "Reached maximum depth. Stopping for now.\n",
      "--------------------------------------------------------------------\n",
      "Subtree, depth = 2 (1408 data points).\n",
      "Reached maximum depth. Stopping for now.\n",
      "=====================================================\n",
      "Adaboost Iteration 15\n",
      "=====================================================\n",
      "--------------------------------------------------------------------\n",
      "Subtree, depth = 1 (37040 data points).\n",
      "Split on feature grade.D. (30312, 6728)\n",
      "--------------------------------------------------------------------\n",
      "Subtree, depth = 2 (30312 data points).\n",
      "Reached maximum depth. Stopping for now.\n",
      "--------------------------------------------------------------------\n",
      "Subtree, depth = 2 (6728 data points).\n",
      "Reached maximum depth. Stopping for now.\n",
      "=====================================================\n",
      "Adaboost Iteration 16\n",
      "=====================================================\n",
      "--------------------------------------------------------------------\n",
      "Subtree, depth = 1 (37040 data points).\n",
      "Split on feature term. 60 months. (27703, 9337)\n",
      "--------------------------------------------------------------------\n",
      "Subtree, depth = 2 (27703 data points).\n",
      "Reached maximum depth. Stopping for now.\n",
      "--------------------------------------------------------------------\n",
      "Subtree, depth = 2 (9337 data points).\n",
      "Reached maximum depth. Stopping for now.\n",
      "=====================================================\n",
      "Adaboost Iteration 17\n",
      "=====================================================\n",
      "--------------------------------------------------------------------\n",
      "Subtree, depth = 1 (37040 data points).\n",
      "Split on feature grade.F. (35344, 1696)\n",
      "--------------------------------------------------------------------\n",
      "Subtree, depth = 2 (35344 data points).\n",
      "Reached maximum depth. Stopping for now.\n",
      "--------------------------------------------------------------------\n",
      "Subtree, depth = 2 (1696 data points).\n",
      "Reached maximum depth. Stopping for now.\n",
      "=====================================================\n",
      "Adaboost Iteration 18\n",
      "=====================================================\n",
      "--------------------------------------------------------------------\n",
      "Subtree, depth = 1 (37040 data points).\n",
      "Split on feature grade.A. (31851, 5189)\n",
      "--------------------------------------------------------------------\n",
      "Subtree, depth = 2 (31851 data points).\n",
      "Reached maximum depth. Stopping for now.\n",
      "--------------------------------------------------------------------\n",
      "Subtree, depth = 2 (5189 data points).\n",
      "Reached maximum depth. Stopping for now.\n",
      "=====================================================\n",
      "Adaboost Iteration 19\n",
      "=====================================================\n",
      "--------------------------------------------------------------------\n",
      "Subtree, depth = 1 (37040 data points).\n",
      "Split on feature emp_length.n/a. (35632, 1408)\n",
      "--------------------------------------------------------------------\n",
      "Subtree, depth = 2 (35632 data points).\n",
      "Reached maximum depth. Stopping for now.\n",
      "--------------------------------------------------------------------\n",
      "Subtree, depth = 2 (1408 data points).\n",
      "Reached maximum depth. Stopping for now.\n",
      "=====================================================\n",
      "Adaboost Iteration 20\n",
      "=====================================================\n",
      "--------------------------------------------------------------------\n",
      "Subtree, depth = 1 (37040 data points).\n",
      "Split on feature emp_length.2 years. (33416, 3624)\n",
      "--------------------------------------------------------------------\n",
      "Subtree, depth = 2 (33416 data points).\n",
      "Reached maximum depth. Stopping for now.\n",
      "--------------------------------------------------------------------\n",
      "Subtree, depth = 2 (3624 data points).\n",
      "Reached maximum depth. Stopping for now.\n",
      "=====================================================\n",
      "Adaboost Iteration 21\n",
      "=====================================================\n",
      "--------------------------------------------------------------------\n",
      "Subtree, depth = 1 (37040 data points).\n",
      "Split on feature emp_length.n/a. (35632, 1408)\n",
      "--------------------------------------------------------------------\n",
      "Subtree, depth = 2 (35632 data points).\n",
      "Reached maximum depth. Stopping for now.\n",
      "--------------------------------------------------------------------\n",
      "Subtree, depth = 2 (1408 data points).\n",
      "Reached maximum depth. Stopping for now.\n",
      "=====================================================\n",
      "Adaboost Iteration 22\n",
      "=====================================================\n",
      "--------------------------------------------------------------------\n",
      "Subtree, depth = 1 (37040 data points).\n",
      "Split on feature grade.B. (26892, 10148)\n",
      "--------------------------------------------------------------------\n",
      "Subtree, depth = 2 (26892 data points).\n",
      "Reached maximum depth. Stopping for now.\n",
      "--------------------------------------------------------------------\n",
      "Subtree, depth = 2 (10148 data points).\n",
      "Reached maximum depth. Stopping for now.\n",
      "=====================================================\n",
      "Adaboost Iteration 23\n",
      "=====================================================\n",
      "--------------------------------------------------------------------\n",
      "Subtree, depth = 1 (37040 data points).\n",
      "Split on feature grade.C. (27634, 9406)\n",
      "--------------------------------------------------------------------\n",
      "Subtree, depth = 2 (27634 data points).\n",
      "Reached maximum depth. Stopping for now.\n",
      "--------------------------------------------------------------------\n",
      "Subtree, depth = 2 (9406 data points).\n",
      "Reached maximum depth. Stopping for now.\n",
      "=====================================================\n",
      "Adaboost Iteration 24\n",
      "=====================================================\n",
      "--------------------------------------------------------------------\n",
      "Subtree, depth = 1 (37040 data points).\n",
      "Split on feature home_ownership.OWN. (33943, 3097)\n",
      "--------------------------------------------------------------------\n",
      "Subtree, depth = 2 (33943 data points).\n",
      "Reached maximum depth. Stopping for now.\n",
      "--------------------------------------------------------------------\n",
      "Subtree, depth = 2 (3097 data points).\n",
      "Reached maximum depth. Stopping for now.\n",
      "=====================================================\n",
      "Adaboost Iteration 25\n",
      "=====================================================\n",
      "--------------------------------------------------------------------\n",
      "Subtree, depth = 1 (37040 data points).\n",
      "Split on feature term. 60 months. (27703, 9337)\n",
      "--------------------------------------------------------------------\n",
      "Subtree, depth = 2 (27703 data points).\n",
      "Reached maximum depth. Stopping for now.\n",
      "--------------------------------------------------------------------\n",
      "Subtree, depth = 2 (9337 data points).\n",
      "Reached maximum depth. Stopping for now.\n",
      "=====================================================\n",
      "Adaboost Iteration 26\n",
      "=====================================================\n",
      "--------------------------------------------------------------------\n",
      "Subtree, depth = 1 (37040 data points).\n",
      "Split on feature grade.F. (35344, 1696)\n",
      "--------------------------------------------------------------------\n",
      "Subtree, depth = 2 (35344 data points).\n",
      "Reached maximum depth. Stopping for now.\n",
      "--------------------------------------------------------------------\n",
      "Subtree, depth = 2 (1696 data points).\n",
      "Reached maximum depth. Stopping for now.\n",
      "=====================================================\n",
      "Adaboost Iteration 27\n",
      "=====================================================\n",
      "--------------------------------------------------------------------\n",
      "Subtree, depth = 1 (37040 data points).\n",
      "Split on feature grade.A. (31851, 5189)\n",
      "--------------------------------------------------------------------\n",
      "Subtree, depth = 2 (31851 data points).\n",
      "Reached maximum depth. Stopping for now.\n",
      "--------------------------------------------------------------------\n",
      "Subtree, depth = 2 (5189 data points).\n",
      "Reached maximum depth. Stopping for now.\n",
      "=====================================================\n",
      "Adaboost Iteration 28\n",
      "=====================================================\n",
      "--------------------------------------------------------------------\n",
      "Subtree, depth = 1 (37040 data points).\n",
      "Split on feature emp_length.n/a. (35632, 1408)\n",
      "--------------------------------------------------------------------\n",
      "Subtree, depth = 2 (35632 data points).\n",
      "Reached maximum depth. Stopping for now.\n",
      "--------------------------------------------------------------------\n",
      "Subtree, depth = 2 (1408 data points).\n",
      "Reached maximum depth. Stopping for now.\n",
      "=====================================================\n",
      "Adaboost Iteration 29\n",
      "=====================================================\n",
      "--------------------------------------------------------------------\n",
      "Subtree, depth = 1 (37040 data points).\n",
      "Split on feature grade.D. (30312, 6728)\n",
      "--------------------------------------------------------------------\n",
      "Subtree, depth = 2 (30312 data points).\n",
      "Reached maximum depth. Stopping for now.\n",
      "--------------------------------------------------------------------\n",
      "Subtree, depth = 2 (6728 data points).\n",
      "Reached maximum depth. Stopping for now.\n"
     ]
    }
   ],
   "source": [
    "stump_weights, tree_stumps = adaboost_tree_stumps( train_data, features, target, num_tree_stumps=30 )"
   ]
  },
  {
   "cell_type": "markdown",
   "metadata": {},
   "source": [
    "### Computing training error at the end of each iteration\n",
    "\n",
    "Now, we will compute the classification error on the **train_data** and see how it is reduced as trees are added."
   ]
  },
  {
   "cell_type": "code",
   "execution_count": 41,
   "metadata": {},
   "outputs": [
    {
     "name": "stdout",
     "output_type": "stream",
     "text": [
      "Iteration 1, training error = 0.425404967603\n",
      "Iteration 2, training error = 0.427672786177\n",
      "Iteration 3, training error = 0.401430885529\n",
      "Iteration 4, training error = 0.383936285097\n",
      "Iteration 5, training error = 0.386933045356\n",
      "Iteration 6, training error = 0.383855291577\n",
      "Iteration 7, training error = 0.383855291577\n",
      "Iteration 8, training error = 0.383855291577\n",
      "Iteration 9, training error = 0.382505399568\n",
      "Iteration 10, training error = 0.383882289417\n",
      "Iteration 11, training error = 0.382505399568\n",
      "Iteration 12, training error = 0.380345572354\n",
      "Iteration 13, training error = 0.3813174946\n",
      "Iteration 14, training error = 0.3813174946\n",
      "Iteration 15, training error = 0.380345572354\n",
      "Iteration 16, training error = 0.380345572354\n",
      "Iteration 17, training error = 0.380345572354\n",
      "Iteration 18, training error = 0.380345572354\n",
      "Iteration 19, training error = 0.380345572354\n",
      "Iteration 20, training error = 0.380345572354\n",
      "Iteration 21, training error = 0.380345572354\n",
      "Iteration 22, training error = 0.380183585313\n",
      "Iteration 23, training error = 0.380156587473\n",
      "Iteration 24, training error = 0.379454643629\n",
      "Iteration 25, training error = 0.380129589633\n",
      "Iteration 26, training error = 0.379481641469\n",
      "Iteration 27, training error = 0.380237580994\n",
      "Iteration 28, training error = 0.379481641469\n",
      "Iteration 29, training error = 0.379373650108\n",
      "Iteration 30, training error = 0.379373650108\n"
     ]
    }
   ],
   "source": [
    "true_label = train_data[target]\n",
    "error_all = []\n",
    "for n in range(1, 31):\n",
    "    predictions = predict_adaboost( stump_weights[:n], tree_stumps[:n], train_data )\n",
    "    error = (predictions!=true_label).sum() / float(len(true_label))\n",
    "    error_all.append(error)\n",
    "    print( \"Iteration %s, training error = %s\" % (n, error_all[n-1]) )"
   ]
  },
  {
   "cell_type": "markdown",
   "metadata": {},
   "source": [
    "### Visualizing training error vs number of iterations\n",
    "\n",
    "We have provided you with a simple code snippet that plots classification error with the number of iterations. "
   ]
  },
  {
   "cell_type": "code",
   "execution_count": 44,
   "metadata": {},
   "outputs": [
    {
     "data": {
      "image/png": "[encoded data removed]",
      "text/plain": [
       "<matplotlib.figure.Figure at 0x2418712aa58>"
      ]
     },
     "metadata": {},
     "output_type": "display_data"
    }
   ],
   "source": [
    "plt.rcParams['figure.figsize'] = 7, 5\n",
    "plt.plot(range(1,31), error_all, '-', linewidth=4.0, label='Training error')\n",
    "plt.title('Performance of Adaboost ensemble')\n",
    "plt.xlabel('# of iterations')\n",
    "plt.ylabel('Classification error')\n",
    "plt.legend(loc='best', prop={'size':15})\n",
    "\n",
    "plt.rcParams.update({'font.size': 16})"
   ]
  },
  {
   "cell_type": "markdown",
   "metadata": {},
   "source": [
    "Training error goes down monotonically, i.e. the training error reduces with each iteration but never increases."
   ]
  },
  {
   "cell_type": "markdown",
   "metadata": {},
   "source": [
    "### Evaluation on the test data\n",
    "\n",
    "Performing well on the training data is cheating, so lets make sure it works on the `test_data` as well. Here, we will compute the classification error on the `test_data` at the end of each iteration."
   ]
  },
  {
   "cell_type": "code",
   "execution_count": 43,
   "metadata": {},
   "outputs": [
    {
     "name": "stdout",
     "output_type": "stream",
     "text": [
      "Iteration 1, test error = 0.4313174946\n",
      "Iteration 2, test error = 0.429481641469\n",
      "Iteration 3, test error = 0.405939524838\n",
      "Iteration 4, test error = 0.392980561555\n",
      "Iteration 5, test error = 0.393304535637\n",
      "Iteration 6, test error = 0.389848812095\n",
      "Iteration 7, test error = 0.389848812095\n",
      "Iteration 8, test error = 0.389848812095\n",
      "Iteration 9, test error = 0.388768898488\n",
      "Iteration 10, test error = 0.389956803456\n",
      "Iteration 11, test error = 0.388768898488\n",
      "Iteration 12, test error = 0.386933045356\n",
      "Iteration 13, test error = 0.388336933045\n",
      "Iteration 14, test error = 0.388336933045\n",
      "Iteration 15, test error = 0.386933045356\n",
      "Iteration 16, test error = 0.386933045356\n",
      "Iteration 17, test error = 0.386933045356\n",
      "Iteration 18, test error = 0.386933045356\n",
      "Iteration 19, test error = 0.386933045356\n",
      "Iteration 20, test error = 0.386933045356\n",
      "Iteration 21, test error = 0.386933045356\n",
      "Iteration 22, test error = 0.388012958963\n",
      "Iteration 23, test error = 0.388012958963\n",
      "Iteration 24, test error = 0.387041036717\n",
      "Iteration 25, test error = 0.38747300216\n",
      "Iteration 26, test error = 0.387041036717\n",
      "Iteration 27, test error = 0.388120950324\n",
      "Iteration 28, test error = 0.386933045356\n",
      "Iteration 29, test error = 0.386285097192\n",
      "Iteration 30, test error = 0.386177105832\n"
     ]
    }
   ],
   "source": [
    "true_label = test_data[target]\n",
    "test_error_all = []\n",
    "for n in range(1, 31):\n",
    "    predictions = predict_adaboost( stump_weights[:n], tree_stumps[:n], test_data )\n",
    "    error = (predictions!=true_label).sum() / float(len(true_label))\n",
    "    test_error_all.append(error)\n",
    "    print( \"Iteration %s, test error = %s\" % (n, test_error_all[n-1]) )"
   ]
  },
  {
   "cell_type": "markdown",
   "metadata": {},
   "source": [
    "### Visualize both the training and test errors\n",
    "\n",
    "Now, let us plot the training & test error with the number of iterations."
   ]
  },
  {
   "cell_type": "code",
   "execution_count": 45,
   "metadata": {},
   "outputs": [
    {
     "data": {
      "image/png": "[encoded data removed]",
      "text/plain": [
       "<matplotlib.figure.Figure at 0x24186e0f278>"
      ]
     },
     "metadata": {},
     "output_type": "display_data"
    }
   ],
   "source": [
    "plt.rcParams['figure.figsize'] = 7, 5\n",
    "plt.plot(range(1,31), error_all, '-', linewidth=4.0, label='Training error')\n",
    "plt.plot(range(1,31), test_error_all, '-', linewidth=4.0, label='Test error')\n",
    "\n",
    "plt.title('Performance of Adaboost ensemble')\n",
    "plt.xlabel('# of iterations')\n",
    "plt.ylabel('Classification error')\n",
    "plt.rcParams.update({'font.size': 16})\n",
    "plt.legend(loc='best', prop={'size':15})\n",
    "plt.tight_layout()"
   ]
  },
  {
   "cell_type": "markdown",
   "metadata": {},
   "source": [
    "From this plot (with 30 trees), there is no massive overfitting as the # of iterations increases."
   ]
  }
 ],
 "metadata": {
  "hide_input": false,
  "kernelspec": {
   "display_name": "Python 3",
   "language": "python",
   "name": "python3"
  },
  "language_info": {
   "codemirror_mode": {
    "name": "ipython",
    "version": 3
   },
   "file_extension": ".py",
   "mimetype": "text/x-python",
   "name": "python",
   "nbconvert_exporter": "python",
   "pygments_lexer": "ipython3",
   "version": "3.7.3"
  },
  "toc": {
   "base_numbering": 1,
   "nav_menu": {},
   "number_sections": true,
   "sideBar": true,
   "skip_h1_title": false,
   "title_cell": "Table of Contents",
   "title_sidebar": "Contents",
   "toc_cell": false,
   "toc_position": {},
   "toc_section_display": true,
   "toc_window_display": false
  },
  "varInspector": {
   "cols": {
    "lenName": 16,
    "lenType": 16,
    "lenVar": 40
   },
   "kernels_config": {
    "python": {
     "delete_cmd_postfix": "",
     "delete_cmd_prefix": "del ",
     "library": "var_list.py",
     "varRefreshCmd": "print(var_dic_list())"
    },
    "r": {
     "delete_cmd_postfix": ") ",
     "delete_cmd_prefix": "rm(",
     "library": "var_list.r",
     "varRefreshCmd": "cat(var_dic_list()) "
    }
   },
   "types_to_exclude": [
    "module",
    "function",
    "builtin_function_or_method",
    "instance",
    "_Feature"
   ],
   "window_display": false
  }
 },
 "nbformat": 4,
 "nbformat_minor": 1
}
