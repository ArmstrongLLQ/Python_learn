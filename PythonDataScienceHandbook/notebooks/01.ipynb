{
 "cells": [
  {
   "cell_type": "code",
   "execution_count": 1,
   "metadata": {},
   "outputs": [
    {
     "name": "stdout",
     "output_type": "stream",
     "text": [
      "Help on built-in function len in module builtins:\n",
      "\n",
      "len(obj, /)\n",
      "    Return the number of items in a container.\n",
      "\n"
     ]
    }
   ],
   "source": [
    "help(len)"
   ]
  },
  {
   "cell_type": "code",
   "execution_count": 2,
   "metadata": {
    "collapsed": true
   },
   "outputs": [],
   "source": [
    "len?"
   ]
  },
  {
   "cell_type": "markdown",
   "metadata": {},
   "source": [
    "L = [1,2]\n",
    "L?"
   ]
  },
  {
   "cell_type": "code",
   "execution_count": 4,
   "metadata": {},
   "outputs": [
    {
     "name": "stderr",
     "output_type": "stream",
     "text": [
      "'ls' 不是内部或外部命令，也不是可运行的程序\n",
      "或批处理文件。\n"
     ]
    }
   ],
   "source": [
    "!ls"
   ]
  },
  {
   "cell_type": "code",
   "execution_count": 7,
   "metadata": {},
   "outputs": [
    {
     "name": "stdout",
     "output_type": "stream",
     "text": [
      " 驱动器 D 中的卷是 新加卷\n",
      " 卷的序列号是 A830-6FA5\n",
      "\n",
      " D:\\lilanqing\\CODE\\Python_learn\\PythonDataScienceHandbook\\notebooks 的目录\n",
      "\n",
      "2019/07/04  12:43    <DIR>          .\n",
      "2019/07/04  12:43    <DIR>          ..\n",
      "2019/07/04  12:43    <DIR>          .ipynb_checkpoints\n",
      "2019/05/24  15:33            14,190 00.00-Preface.ipynb\n",
      "2019/05/24  15:33             8,662 01.00-IPython-Beyond-Normal-Python.ipynb\n",
      "2019/07/04  12:32            15,448 01.01-Help-And-Documentation.ipynb\n",
      "2019/07/04  12:32            10,620 01.02-Shell-Keyboard-Shortcuts.ipynb\n",
      "2019/05/24  15:33            10,175 01.03-Magic-Commands.ipynb\n",
      "2019/05/24  15:33             9,353 01.04-Input-Output-History.ipynb\n",
      "2019/05/24  15:33            11,835 01.05-IPython-And-Shell-Commands.ipynb\n",
      "2019/05/24  15:33            21,677 01.06-Errors-and-Debugging.ipynb\n",
      "2019/05/24  15:33            19,500 01.07-Timing-and-Profiling.ipynb\n",
      "2019/05/24  15:33             5,728 01.08-More-IPython-Resources.ipynb\n",
      "2019/07/04  12:33             1,289 01.ipynb\n",
      "2019/07/04  12:43             7,058 02.00-Introduction-to-NumPy.ipynb\n",
      "2019/05/24  15:33            24,751 02.01-Understanding-Data-Types.ipynb\n",
      "2019/05/24  15:33            35,089 02.02-The-Basics-Of-NumPy-Arrays.ipynb\n",
      "2019/05/24  15:33            33,185 02.03-Computation-on-arrays-ufuncs.ipynb\n",
      "2019/05/24  15:33            31,968 02.04-Computation-on-arrays-aggregates.ipynb\n",
      "2019/05/24  15:33           103,043 02.05-Computation-on-arrays-broadcasting.ipynb\n",
      "2019/05/24  15:33            42,455 02.06-Boolean-Arrays-and-Masks.ipynb\n",
      "2019/05/24  15:53            63,839 02.07-Fancy-Indexing.ipynb\n",
      "2019/05/24  15:33            63,023 02.08-Sorting.ipynb\n",
      "2019/05/24  15:33            17,856 02.09-Structured-Data-NumPy.ipynb\n",
      "2019/05/24  15:33             7,240 03.00-Introduction-to-Pandas.ipynb\n",
      "2019/05/24  15:33            41,683 03.01-Introducing-Pandas-Objects.ipynb\n",
      "2019/05/24  15:33            42,928 03.02-Data-Indexing-and-Selection.ipynb\n",
      "2019/05/24  15:33            28,635 03.03-Operations-in-Pandas.ipynb\n",
      "2019/05/24  15:33            38,731 03.04-Missing-Values.ipynb\n",
      "2019/05/24  15:33            79,032 03.05-Hierarchical-Indexing.ipynb\n",
      "2019/05/24  15:33            49,132 03.06-Concat-And-Append.ipynb\n",
      "2019/05/24  15:33           110,988 03.07-Merge-and-Join.ipynb\n",
      "2019/05/24  15:33            81,925 03.08-Aggregation-and-Grouping.ipynb\n",
      "2019/05/24  15:33           187,237 03.09-Pivot-Tables.ipynb\n",
      "2019/05/27  10:37            42,065 03.10-Working-With-Strings.ipynb\n",
      "2019/05/24  15:33           680,462 03.11-Working-with-Time-Series.ipynb\n",
      "2019/05/24  15:33            32,308 03.12-Performance-Eval-and-Query.ipynb\n",
      "2019/05/24  15:33             5,155 03.13-Further-Resources.ipynb\n",
      "2019/05/24  15:33           101,713 04.00-Introduction-To-Matplotlib.ipynb\n",
      "2019/05/27  16:26           373,263 04.01-Simple-Line-Plots.ipynb\n",
      "2019/06/04  08:41           201,362 04.02-Simple-Scatter-Plots.ipynb\n",
      "2019/06/04  08:44            47,662 04.03-Errorbars.ipynb\n",
      "2019/06/04  08:55           424,687 04.04-Density-and-Contour-Plots.ipynb\n",
      "2019/06/04  09:01           115,509 04.05-Histograms-and-Binnings.ipynb\n",
      "2019/05/24  15:33           220,183 04.06-Customizing-Legends.ipynb\n",
      "2019/05/24  15:33           435,962 04.07-Customizing-Colorbars.ipynb\n",
      "2019/05/24  15:33           151,311 04.08-Multiple-Subplots.ipynb\n",
      "2019/05/24  15:33           196,328 04.09-Text-and-Annotation.ipynb\n",
      "2019/05/24  15:33           318,587 04.10-Customizing-Ticks.ipynb\n",
      "2019/05/24  15:33           372,797 04.11-Settings-and-Stylesheets.ipynb\n",
      "2019/06/04  10:07           671,732 04.12-Three-Dimensional-Plotting.ipynb\n",
      "2019/06/04  10:11         2,738,537 04.13-Geographic-Data-With-Basemap.ipynb\n",
      "2019/05/30  13:42         1,070,870 04.14-Visualization-With-Seaborn.ipynb\n",
      "2019/05/24  15:33             5,891 04.15-Further-Resources.ipynb\n",
      "2019/05/24  15:33             5,208 05.00-Machine-Learning.ipynb\n",
      "2019/05/24  15:33            24,681 05.01-What-Is-Machine-Learning.ipynb\n",
      "2019/06/03  13:12           385,798 05.02-Introducing-Scikit-Learn.ipynb\n",
      "2019/06/03  14:23           211,442 05.03-Hyperparameters-and-Model-Validation.ipynb\n",
      "2019/06/03  14:54            46,651 05.04-Feature-Engineering.ipynb\n",
      "2019/06/03  15:35           230,817 05.05-Naive-Bayes.ipynb\n",
      "2019/06/03  16:13           329,437 05.06-Linear-Regression.ipynb\n",
      "2019/05/30  15:55           669,191 05.07-Support-Vector-Machines.ipynb\n",
      "2019/06/03  17:03           290,231 05.08-Random-Forests.ipynb\n",
      "2019/06/03  17:09           568,867 05.09-Principal-Component-Analysis.ipynb\n",
      "2019/05/24  15:33         1,559,395 05.10-Manifold-Learning.ipynb\n",
      "2019/06/03  17:43         1,743,656 05.11-K-Means.ipynb\n",
      "2019/05/31  15:56           917,776 05.12-Gaussian-Mixtures.ipynb\n",
      "2019/05/24  15:33           260,391 05.13-Kernel-Density-Estimation.ipynb\n",
      "2019/05/24  15:33           567,431 05.14-Image-Features.ipynb\n",
      "2019/05/24  15:33             7,031 05.15-Learning-More.ipynb\n",
      "2019/05/24  15:33         1,848,803 06.00-Figure-Code.ipynb\n",
      "2019/06/03  14:43           370,399 5.2.ipynb\n",
      "2019/06/03  14:54             7,390 5.4.ipynb\n",
      "2019/07/04  12:27    <DIR>          data\n",
      "2019/07/04  12:27    <DIR>          figures\n",
      "2019/05/24  15:33             2,935 helpers_05_08.py\n",
      "2019/05/24  15:33             6,838 Index.ipynb\n",
      "2019/07/04  12:27    <DIR>          __pycache__\n",
      "              72 个文件     19,479,027 字节\n",
      "               6 个目录 765,508,100,096 可用字节\n"
     ]
    }
   ],
   "source": [
    "!dir"
   ]
  },
  {
   "cell_type": "code",
   "execution_count": 8,
   "metadata": {},
   "outputs": [
    {
     "name": "stderr",
     "output_type": "stream",
     "text": [
      "ERROR:root:No traceback has been produced, nothing to debug.\n"
     ]
    }
   ],
   "source": [
    "%debug"
   ]
  },
  {
   "cell_type": "code",
   "execution_count": 9,
   "metadata": {},
   "outputs": [
    {
     "name": "stdout",
     "output_type": "stream",
     "text": [
      "Automatic pdb calling has been turned ON\n"
     ]
    }
   ],
   "source": [
    "%pdb on"
   ]
  },
  {
   "cell_type": "code",
   "execution_count": 11,
   "metadata": {},
   "outputs": [
    {
     "ename": "SyntaxError",
     "evalue": "Missing parentheses in call to 'print'. Did you mean print('a')? (<ipython-input-11-e1f2992fdcac>, line 1)",
     "output_type": "error",
     "traceback": [
      "\u001b[1;36m  File \u001b[1;32m\"<ipython-input-11-e1f2992fdcac>\"\u001b[1;36m, line \u001b[1;32m1\u001b[0m\n\u001b[1;33m    print 'a'\u001b[0m\n\u001b[1;37m            ^\u001b[0m\n\u001b[1;31mSyntaxError\u001b[0m\u001b[1;31m:\u001b[0m Missing parentheses in call to 'print'. Did you mean print('a')?\n"
     ]
    }
   ],
   "source": [
    "print 'a'"
   ]
  },
  {
   "cell_type": "code",
   "execution_count": 12,
   "metadata": {},
   "outputs": [
    {
     "data": {
      "text/plain": [
       "7610755"
      ]
     },
     "execution_count": 12,
     "metadata": {},
     "output_type": "execute_result"
    }
   ],
   "source": [
    "253110+1220815+4096532+1570377+469921"
   ]
  },
  {
   "cell_type": "code",
   "execution_count": 13,
   "metadata": {},
   "outputs": [
    {
     "data": {
      "text/plain": [
       "7640188"
      ]
     },
     "execution_count": 13,
     "metadata": {},
     "output_type": "execute_result"
    }
   ],
   "source": [
    "1131458+1180728+1250329+1230701+852223+264448+519277+430308+780716"
   ]
  },
  {
   "cell_type": "code",
   "execution_count": null,
   "metadata": {
    "collapsed": true
   },
   "outputs": [],
   "source": []
  }
 ],
 "metadata": {
  "kernelspec": {
   "display_name": "Python 3",
   "language": "python",
   "name": "python3"
  },
  "language_info": {
   "codemirror_mode": {
    "name": "ipython",
    "version": 3
   },
   "file_extension": ".py",
   "mimetype": "text/x-python",
   "name": "python",
   "nbconvert_exporter": "python",
   "pygments_lexer": "ipython3",
   "version": "3.6.3"
  }
 },
 "nbformat": 4,
 "nbformat_minor": 2
}
